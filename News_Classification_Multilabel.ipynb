{
 "cells": [
  {
   "cell_type": "code",
   "execution_count": 1,
   "id": "68d7ed64-54a9-4905-b0df-1f07b89d73d3",
   "metadata": {
    "id": "68d7ed64-54a9-4905-b0df-1f07b89d73d3",
    "tags": []
   },
   "outputs": [],
   "source": [
    "import nltk\n",
    "import pandas as pd\n",
    "import numpy as np\n",
    "import seaborn as sns\n",
    "from sklearn.model_selection import train_test_split\n",
    "import matplotlib.pyplot as plt\n",
    "from sklearn.compose import ColumnTransformer\n",
    "from sklearn.experimental import enable_iterative_imputer\n",
    "from statsmodels.stats.outliers_influence import variance_inflation_factor\n",
    "from sklearn.preprocessing import StandardScaler, RobustScaler, MinMaxScaler\n",
    "from sklearn.feature_selection import RFE, RFECV, f_regression, chi2\n",
    "from sklearn.ensemble import RandomForestClassifier\n",
    "from sklearn.pipeline import Pipeline\n",
    "from sklearn.linear_model import LogisticRegression\n",
    "from sklearn.experimental import enable_halving_search_cv\n",
    "from sklearn.model_selection import GridSearchCV, KFold, RandomizedSearchCV, HalvingGridSearchCV\n",
    "from sklearn.model_selection import cross_val_score\n",
    "from sklearn.feature_selection import SelectKBest\n",
    "from sklearn.metrics import accuracy_score, confusion_matrix, classification_report, recall_score, precision_score, f1_score, roc_auc_score\n",
    "from sklearn.ensemble import RandomForestClassifier\n",
    "from sklearn.naive_bayes import GaussianNB, BernoulliNB, MultinomialNB\n",
    "from sklearn.preprocessing import PowerTransformer, QuantileTransformer\n",
    "from mlxtend.feature_selection import SequentialFeatureSelector as SFS\n",
    "from sklearn.neighbors import  KNeighborsClassifier\n",
    "from datetime import datetime as dt\n",
    "from sklearn.impute import SimpleImputer, KNNImputer, IterativeImputer\n",
    "from sklearn.tree import DecisionTreeClassifier\n",
    "from sklearn.svm import SVC, LinearSVC\n",
    "from sklearn.ensemble import GradientBoostingClassifier, AdaBoostClassifier, BaggingClassifier, StackingClassifier\n",
    "from sklearn.ensemble import VotingClassifier\n",
    "from sklearn.preprocessing import OneHotEncoder, OrdinalEncoder, LabelEncoder\n",
    "from imblearn.combine import SMOTETomek\n",
    "from collections import Counter\n",
    "from sklearn.feature_extraction.text import TfidfVectorizer\n",
    "from mlxtend.feature_selection import ColumnSelector\n",
    "\n",
    "# explicitly require this experimental feature\n",
    "from sklearn.experimental import enable_halving_search_cv # noqa\n",
    "# now you can import normally from model_selection\n",
    "from sklearn.model_selection import HalvingGridSearchCV\n",
    "\n",
    "import warnings\n",
    "# Settings the warnings to be ignored\n",
    "warnings.filterwarnings('ignore')"
   ]
  },
  {
   "cell_type": "code",
   "execution_count": 2,
   "id": "be7a696d-0adf-43f8-a457-a8e8425db08b",
   "metadata": {
    "id": "be7a696d-0adf-43f8-a457-a8e8425db08b",
    "tags": []
   },
   "outputs": [],
   "source": [
    "# Displaying all columns\n",
    "pd.set_option('display.max_columns', None)\n",
    "\n",
    "#Display all data in columns\n",
    "pd.set_option(\"display.max_colwidth\", None)\n",
    "\n",
    "np.set_printoptions(threshold=None, edgeitems=None, linewidth=None, suppress=None)\n",
    "pd.set_option(\"display.max_rows\", None)\n",
    "pd.set_option(\"display.expand_frame_repr\", True)\n",
    "pd.set_option('display.width', 1000)\n"
   ]
  },
  {
   "cell_type": "code",
   "execution_count": 3,
   "id": "79483ae4-3985-4d65-8fce-01a005953795",
   "metadata": {
    "id": "79483ae4-3985-4d65-8fce-01a005953795",
    "tags": []
   },
   "outputs": [],
   "source": [
    "train_df = pd.read_csv('train.csv')"
   ]
  },
  {
   "cell_type": "code",
   "execution_count": 4,
   "id": "95fadff3-5d13-437b-9f52-9506d46cfa4c",
   "metadata": {
    "colab": {
     "base_uri": "https://localhost:8080/"
    },
    "id": "95fadff3-5d13-437b-9f52-9506d46cfa4c",
    "outputId": "fcacf010-a013-4433-8770-69b053603436",
    "tags": []
   },
   "outputs": [
    {
     "data": {
      "text/plain": [
       "(120000, 3)"
      ]
     },
     "execution_count": 4,
     "metadata": {},
     "output_type": "execute_result"
    }
   ],
   "source": [
    "train_df.shape"
   ]
  },
  {
   "cell_type": "code",
   "execution_count": 5,
   "id": "a6053efd-0247-4694-92e2-68917a8fde23",
   "metadata": {
    "colab": {
     "base_uri": "https://localhost:8080/",
     "height": 797
    },
    "id": "a6053efd-0247-4694-92e2-68917a8fde23",
    "outputId": "6dcce360-8071-4def-8f4f-3d97b15ea121",
    "tags": []
   },
   "outputs": [
    {
     "data": {
      "text/html": [
       "<div>\n",
       "<style scoped>\n",
       "    .dataframe tbody tr th:only-of-type {\n",
       "        vertical-align: middle;\n",
       "    }\n",
       "\n",
       "    .dataframe tbody tr th {\n",
       "        vertical-align: top;\n",
       "    }\n",
       "\n",
       "    .dataframe thead th {\n",
       "        text-align: right;\n",
       "    }\n",
       "</style>\n",
       "<table border=\"1\" class=\"dataframe\">\n",
       "  <thead>\n",
       "    <tr style=\"text-align: right;\">\n",
       "      <th></th>\n",
       "      <th>Class Index</th>\n",
       "      <th>Title</th>\n",
       "      <th>Description</th>\n",
       "    </tr>\n",
       "  </thead>\n",
       "  <tbody>\n",
       "    <tr>\n",
       "      <th>0</th>\n",
       "      <td>3</td>\n",
       "      <td>Wall St. Bears Claw Back Into the Black (Reuters)</td>\n",
       "      <td>Reuters - Short-sellers, Wall Street's dwindling\\band of ultra-cynics, are seeing green again.</td>\n",
       "    </tr>\n",
       "    <tr>\n",
       "      <th>1</th>\n",
       "      <td>3</td>\n",
       "      <td>Carlyle Looks Toward Commercial Aerospace (Reuters)</td>\n",
       "      <td>Reuters - Private investment firm Carlyle Group,\\which has a reputation for making well-timed and occasionally\\controversial plays in the defense industry, has quietly placed\\its bets on another part of the market.</td>\n",
       "    </tr>\n",
       "    <tr>\n",
       "      <th>2</th>\n",
       "      <td>3</td>\n",
       "      <td>Oil and Economy Cloud Stocks' Outlook (Reuters)</td>\n",
       "      <td>Reuters - Soaring crude prices plus worries\\about the economy and the outlook for earnings are expected to\\hang over the stock market next week during the depth of the\\summer doldrums.</td>\n",
       "    </tr>\n",
       "    <tr>\n",
       "      <th>3</th>\n",
       "      <td>3</td>\n",
       "      <td>Iraq Halts Oil Exports from Main Southern Pipeline (Reuters)</td>\n",
       "      <td>Reuters - Authorities have halted oil export\\flows from the main pipeline in southern Iraq after\\intelligence showed a rebel militia could strike\\infrastructure, an oil official said on Saturday.</td>\n",
       "    </tr>\n",
       "    <tr>\n",
       "      <th>4</th>\n",
       "      <td>3</td>\n",
       "      <td>Oil prices soar to all-time record, posing new menace to US economy (AFP)</td>\n",
       "      <td>AFP - Tearaway world oil prices, toppling records and straining wallets, present a new economic menace barely three months before the US presidential elections.</td>\n",
       "    </tr>\n",
       "  </tbody>\n",
       "</table>\n",
       "</div>"
      ],
      "text/plain": [
       "   Class Index                                                                      Title                                                                                                                                                                                                             Description\n",
       "0            3                          Wall St. Bears Claw Back Into the Black (Reuters)                                                                                                                          Reuters - Short-sellers, Wall Street's dwindling\\band of ultra-cynics, are seeing green again.\n",
       "1            3                        Carlyle Looks Toward Commercial Aerospace (Reuters)  Reuters - Private investment firm Carlyle Group,\\which has a reputation for making well-timed and occasionally\\controversial plays in the defense industry, has quietly placed\\its bets on another part of the market.\n",
       "2            3                            Oil and Economy Cloud Stocks' Outlook (Reuters)                                Reuters - Soaring crude prices plus worries\\about the economy and the outlook for earnings are expected to\\hang over the stock market next week during the depth of the\\summer doldrums.\n",
       "3            3               Iraq Halts Oil Exports from Main Southern Pipeline (Reuters)                     Reuters - Authorities have halted oil export\\flows from the main pipeline in southern Iraq after\\intelligence showed a rebel militia could strike\\infrastructure, an oil official said on Saturday.\n",
       "4            3  Oil prices soar to all-time record, posing new menace to US economy (AFP)                                                        AFP - Tearaway world oil prices, toppling records and straining wallets, present a new economic menace barely three months before the US presidential elections."
      ]
     },
     "execution_count": 5,
     "metadata": {},
     "output_type": "execute_result"
    }
   ],
   "source": [
    "train_df.head(5)"
   ]
  },
  {
   "cell_type": "code",
   "execution_count": 15,
   "id": "9bc57c5e-c2cd-4dbd-ab07-0a6660c91ac8",
   "metadata": {
    "tags": []
   },
   "outputs": [],
   "source": [
    "train_df['Description_preprocessed'] = train_df['Description']"
   ]
  },
  {
   "cell_type": "code",
   "execution_count": 6,
   "id": "74d61c23-2b7f-40a5-b572-0f3ed8771dbc",
   "metadata": {
    "colab": {
     "base_uri": "https://localhost:8080/"
    },
    "id": "74d61c23-2b7f-40a5-b572-0f3ed8771dbc",
    "outputId": "7f7133f0-bb1d-4a5c-b6d4-a04d1514b418",
    "tags": []
   },
   "outputs": [
    {
     "name": "stderr",
     "output_type": "stream",
     "text": [
      "[nltk_data] Downloading package stopwords to /home/mist/nltk_data...\n",
      "[nltk_data]   Package stopwords is already up-to-date!\n",
      "[nltk_data] Downloading package punkt to /home/mist/nltk_data...\n",
      "[nltk_data]   Package punkt is already up-to-date!\n",
      "[nltk_data] Downloading package wordnet to /home/mist/nltk_data...\n",
      "[nltk_data]   Package wordnet is already up-to-date!\n"
     ]
    },
    {
     "data": {
      "text/plain": [
       "True"
      ]
     },
     "execution_count": 6,
     "metadata": {},
     "output_type": "execute_result"
    }
   ],
   "source": [
    "#Dependencies\n",
    "nltk.download('stopwords')\n",
    "nltk.download('punkt')\n",
    "nltk.download('wordnet')"
   ]
  },
  {
   "cell_type": "code",
   "execution_count": 7,
   "id": "b8ce4f6a-d6b9-4f7f-b878-9a21f4472dc1",
   "metadata": {
    "colab": {
     "base_uri": "https://localhost:8080/"
    },
    "id": "b8ce4f6a-d6b9-4f7f-b878-9a21f4472dc1",
    "outputId": "663a3c87-134e-4d8d-b8d8-c035c86bdb51",
    "tags": []
   },
   "outputs": [
    {
     "data": {
      "text/plain": [
       "0"
      ]
     },
     "execution_count": 7,
     "metadata": {},
     "output_type": "execute_result"
    }
   ],
   "source": [
    "train_df.duplicated().sum()"
   ]
  },
  {
   "cell_type": "code",
   "execution_count": 8,
   "id": "9d8ff703-1783-42ca-ba5f-715064418e42",
   "metadata": {
    "colab": {
     "base_uri": "https://localhost:8080/"
    },
    "id": "9d8ff703-1783-42ca-ba5f-715064418e42",
    "outputId": "204edaa2-5000-4d12-9f66-382c0af7ae2d",
    "tags": []
   },
   "outputs": [
    {
     "data": {
      "text/plain": [
       "Class Index    0\n",
       "Title          0\n",
       "Description    0\n",
       "dtype: int64"
      ]
     },
     "execution_count": 8,
     "metadata": {},
     "output_type": "execute_result"
    }
   ],
   "source": [
    "train_df.isnull().sum()"
   ]
  },
  {
   "cell_type": "code",
   "execution_count": 9,
   "id": "2707189d-5fff-4a13-9f7c-6719aead2208",
   "metadata": {
    "colab": {
     "base_uri": "https://localhost:8080/"
    },
    "id": "2707189d-5fff-4a13-9f7c-6719aead2208",
    "outputId": "488da2cc-2e10-4866-efe1-600388786115",
    "tags": []
   },
   "outputs": [
    {
     "data": {
      "text/plain": [
       "Class Index\n",
       "3    30000\n",
       "4    30000\n",
       "2    30000\n",
       "1    30000\n",
       "Name: count, dtype: int64"
      ]
     },
     "execution_count": 9,
     "metadata": {},
     "output_type": "execute_result"
    }
   ],
   "source": [
    "train_df['Class Index'].value_counts()  #Not imbalanced"
   ]
  },
  {
   "cell_type": "code",
   "execution_count": 10,
   "id": "bb1764bd-5fe2-4bf6-87e7-17b5ca03a28d",
   "metadata": {
    "id": "bb1764bd-5fe2-4bf6-87e7-17b5ca03a28d",
    "tags": []
   },
   "outputs": [],
   "source": [
    "#Preprocessing the description"
   ]
  },
  {
   "cell_type": "code",
   "execution_count": 11,
   "id": "55ac9ddd-85c7-4dda-a5c9-c30cdc672178",
   "metadata": {
    "id": "55ac9ddd-85c7-4dda-a5c9-c30cdc672178",
    "tags": []
   },
   "outputs": [
    {
     "name": "stderr",
     "output_type": "stream",
     "text": [
      "2023-08-23 23:41:58.256033: I tensorflow/core/util/port.cc:110] oneDNN custom operations are on. You may see slightly different numerical results due to floating-point round-off errors from different computation orders. To turn them off, set the environment variable `TF_ENABLE_ONEDNN_OPTS=0`.\n",
      "2023-08-23 23:41:58.658600: I tensorflow/tsl/cuda/cudart_stub.cc:28] Could not find cuda drivers on your machine, GPU will not be used.\n",
      "2023-08-23 23:42:00.866451: I tensorflow/tsl/cuda/cudart_stub.cc:28] Could not find cuda drivers on your machine, GPU will not be used.\n",
      "2023-08-23 23:42:00.894553: I tensorflow/core/platform/cpu_feature_guard.cc:182] This TensorFlow binary is optimized to use available CPU instructions in performance-critical operations.\n",
      "To enable the following instructions: AVX2 AVX512F AVX512_VNNI FMA, in other operations, rebuild TensorFlow with the appropriate compiler flags.\n",
      "2023-08-23 23:42:06.643931: W tensorflow/compiler/tf2tensorrt/utils/py_utils.cc:38] TF-TRT Warning: Could not find TensorRT\n"
     ]
    }
   ],
   "source": [
    "import spacy\n",
    "\n",
    "nlp = spacy.load('en_core_web_sm')"
   ]
  },
  {
   "cell_type": "code",
   "execution_count": 12,
   "id": "Ms-udpRyE12v",
   "metadata": {
    "colab": {
     "base_uri": "https://localhost:8080/",
     "height": 144
    },
    "id": "Ms-udpRyE12v",
    "outputId": "9210cb45-b3f8-43e6-95e1-f151399645be",
    "tags": []
   },
   "outputs": [
    {
     "name": "stdout",
     "output_type": "stream",
     "text": [
      "Requirement already satisfied: contractions in /home/mist/anaconda3/envs/ml/lib/python3.8/site-packages (0.1.73)\n",
      "Requirement already satisfied: textsearch>=0.0.21 in /home/mist/anaconda3/envs/ml/lib/python3.8/site-packages (from contractions) (0.0.24)\n",
      "Requirement already satisfied: anyascii in /home/mist/anaconda3/envs/ml/lib/python3.8/site-packages (from textsearch>=0.0.21->contractions) (0.3.2)\n",
      "Requirement already satisfied: pyahocorasick in /home/mist/anaconda3/envs/ml/lib/python3.8/site-packages (from textsearch>=0.0.21->contractions) (2.0.0)\n",
      "Requirement already satisfied: wordcloud in /home/mist/anaconda3/envs/ml/lib/python3.8/site-packages (1.9.2)\n",
      "Requirement already satisfied: numpy>=1.6.1 in /home/mist/anaconda3/envs/ml/lib/python3.8/site-packages (from wordcloud) (1.24.3)\n",
      "Requirement already satisfied: pillow in /home/mist/anaconda3/envs/ml/lib/python3.8/site-packages (from wordcloud) (9.5.0)\n",
      "Requirement already satisfied: matplotlib in /home/mist/anaconda3/envs/ml/lib/python3.8/site-packages (from wordcloud) (3.7.2)\n",
      "Requirement already satisfied: contourpy>=1.0.1 in /home/mist/anaconda3/envs/ml/lib/python3.8/site-packages (from matplotlib->wordcloud) (1.1.0)\n",
      "Requirement already satisfied: cycler>=0.10 in /home/mist/anaconda3/envs/ml/lib/python3.8/site-packages (from matplotlib->wordcloud) (0.11.0)\n",
      "Requirement already satisfied: fonttools>=4.22.0 in /home/mist/anaconda3/envs/ml/lib/python3.8/site-packages (from matplotlib->wordcloud) (4.41.0)\n",
      "Requirement already satisfied: kiwisolver>=1.0.1 in /home/mist/anaconda3/envs/ml/lib/python3.8/site-packages (from matplotlib->wordcloud) (1.4.4)\n",
      "Requirement already satisfied: packaging>=20.0 in /home/mist/anaconda3/envs/ml/lib/python3.8/site-packages (from matplotlib->wordcloud) (23.1)\n",
      "Requirement already satisfied: pyparsing<3.1,>=2.3.1 in /home/mist/anaconda3/envs/ml/lib/python3.8/site-packages (from matplotlib->wordcloud) (3.0.9)\n",
      "Requirement already satisfied: python-dateutil>=2.7 in /home/mist/anaconda3/envs/ml/lib/python3.8/site-packages (from matplotlib->wordcloud) (2.8.2)\n",
      "Requirement already satisfied: importlib-resources>=3.2.0 in /home/mist/anaconda3/envs/ml/lib/python3.8/site-packages (from matplotlib->wordcloud) (5.2.0)\n",
      "Requirement already satisfied: zipp>=3.1.0 in /home/mist/anaconda3/envs/ml/lib/python3.8/site-packages (from importlib-resources>=3.2.0->matplotlib->wordcloud) (3.11.0)\n",
      "Requirement already satisfied: six>=1.5 in /home/mist/anaconda3/envs/ml/lib/python3.8/site-packages (from python-dateutil>=2.7->matplotlib->wordcloud) (1.16.0)\n",
      "Requirement already satisfied: autocorrect in /home/mist/anaconda3/envs/ml/lib/python3.8/site-packages (2.6.1)\n"
     ]
    },
    {
     "name": "stderr",
     "output_type": "stream",
     "text": [
      "[nltk_data] Downloading package stopwords to /home/mist/nltk_data...\n",
      "[nltk_data]   Package stopwords is already up-to-date!\n",
      "[nltk_data] Downloading package punkt to /home/mist/nltk_data...\n",
      "[nltk_data]   Package punkt is already up-to-date!\n"
     ]
    },
    {
     "data": {
      "text/plain": [
       "True"
      ]
     },
     "execution_count": 12,
     "metadata": {},
     "output_type": "execute_result"
    }
   ],
   "source": [
    "!pip install contractions\n",
    "!pip install wordcloud\n",
    "!pip install autocorrect\n",
    "nltk.download('stopwords')\n",
    "nltk.download('punkt')"
   ]
  },
  {
   "cell_type": "code",
   "execution_count": 18,
   "id": "a000dca3-6567-435b-9aa0-d0bc0207efc3",
   "metadata": {
    "id": "a000dca3-6567-435b-9aa0-d0bc0207efc3",
    "tags": []
   },
   "outputs": [],
   "source": [
    "#PreprocesDescriptionng 'overview' column\n",
    "\n",
    "#Lowercasing\n",
    "\n",
    "train_df['Description_preprocessed'] = train_df['Description_preprocessed'].str.lower()\n",
    "\n",
    "\n",
    "#Removing Contradictions\n",
    "\n",
    "import contractions\n",
    "\n",
    "def remove_contradictions(text):\n",
    "\n",
    "    return \" \".join([contractions.fix(word.text) for word in nlp(text)])\n",
    "\n",
    "train_df['Description_preprocessed']= train_df['Description_preprocessed'].apply(remove_contradictions)\n",
    "\n",
    "\n",
    "\n",
    "# Removing HTML tags\n",
    "\n",
    "import re\n",
    "\n",
    "def remove_html(text):\n",
    "    pattern = re.compile('<.*?>')\n",
    "    return pattern.sub(r'', text)\n",
    "\n",
    "train_df['Description_preprocessed'] = train_df['Description_preprocessed'].apply(remove_html)\n",
    "\n",
    "\n",
    "#Removing URL\n",
    "\n",
    "import re\n",
    "\n",
    "def remove_url(text):\n",
    "    pattern = re.compile(r'https?://\\S+|www\\.\\S+')\n",
    "    return pattern.sub(r'', text)\n",
    "\n",
    "train_df['Description_preprocessed']= train_df['Description_preprocessed'].apply(remove_url)\n",
    "\n",
    "\n",
    "\n",
    "def remove_at_the_rate_and_mentions(text):\n",
    "\n",
    "      return ' '.join(re.sub(\"(#[A-Za-z0-9]+)|(@[A-Za-z0-9]+)\",\" \",text).split())\n",
    "\n",
    "\n",
    "train_df['Description_preprocessed']= train_df['Description_preprocessed'].apply(remove_at_the_rate_and_mentions)\n",
    "\n",
    "\n",
    "\n",
    "#Remmove punctuation\n",
    "\n",
    "import string\n",
    "\n",
    "punc = string.punctuation\n",
    "\n",
    "def  remove_punc(text):\n",
    "\n",
    "    return text.translate(str.maketrans('', '', punc))\n",
    "\n",
    "train_df['Description_preprocessed']= train_df['Description_preprocessed'].apply(remove_punc)\n",
    "\n",
    "\n",
    "\n",
    "\n",
    "# Removing stop words\n",
    "\n",
    "\n",
    "from nltk.corpus import stopwords\n",
    "\n",
    "stopwords = stopwords.words('english')\n",
    "\n",
    "def remove_stop_words(text):\n",
    "    ls = []\n",
    "    new = []\n",
    "\n",
    "    ls = nlp(text)\n",
    "\n",
    "    for word in ls:\n",
    "        if word.text not in stopwords:\n",
    "\n",
    "            new.append(word.text)\n",
    "\n",
    "    return ' '.join(new)\n",
    "\n",
    "train_df['Description_preprocessed'] = train_df['Description_preprocessed'].apply(remove_stop_words)\n",
    "\n",
    "\n",
    "\n",
    "def Lemmetization(text):\n",
    "\n",
    "    return \" \".join([word.lemma_ for word in nlp(text)])\n",
    "\n",
    "train_df['Description_preprocessed'] = train_df['Description_preprocessed'].apply(Lemmetization)\n",
    "\n",
    "\n"
   ]
  },
  {
   "cell_type": "code",
   "execution_count": 19,
   "id": "8bd0561e-4089-44a2-b35f-2156b08599d0",
   "metadata": {
    "id": "8bd0561e-4089-44a2-b35f-2156b08599d0",
    "tags": []
   },
   "outputs": [],
   "source": [
    "#Preprocesing the 'Title' column"
   ]
  },
  {
   "cell_type": "code",
   "execution_count": 21,
   "id": "976414a0-5d15-4ab6-9c5a-896652df6f60",
   "metadata": {
    "id": "976414a0-5d15-4ab6-9c5a-896652df6f60",
    "tags": []
   },
   "outputs": [],
   "source": [
    "train_df['Title_processed'] = train_df['Title']"
   ]
  },
  {
   "cell_type": "code",
   "execution_count": 22,
   "id": "7ae5e2c3-10da-415f-92a3-c358ccfb5443",
   "metadata": {
    "id": "7ae5e2c3-10da-415f-92a3-c358ccfb5443",
    "tags": []
   },
   "outputs": [],
   "source": [
    "#Preprocessing 'overview' column\n",
    "\n",
    "#Lowercasing\n",
    "\n",
    "train_df['Title_processed'] = train_df['Title_processed'].str.lower()\n",
    "\n",
    "\n",
    "#Removing Contradictions\n",
    "\n",
    "import contractions\n",
    "\n",
    "def remove_contradictions(text):\n",
    "\n",
    "    return \" \".join([contractions.fix(word.text) for word in nlp(text)])\n",
    "\n",
    "train_df['Title_processed']= train_df['Title_processed'].apply(remove_contradictions)\n",
    "\n",
    "\n",
    "\n",
    "\n",
    "# Removing HTML tags\n",
    "\n",
    "import re\n",
    "\n",
    "def remove_html(text):\n",
    "    pattern = re.compile('<.*?>')\n",
    "    return pattern.sub(r'', text)\n",
    "\n",
    "train_df['Title_processed'] = train_df['Title_processed'].apply(remove_html)\n",
    "\n",
    "\n",
    "\n",
    "#Removing URL\n",
    "\n",
    "import re\n",
    "\n",
    "def remove_url(text):\n",
    "    pattern = re.compile(r'https?://\\S+|www\\.\\S+')\n",
    "    return pattern.sub(r'', text)\n",
    "\n",
    "train_df['Title_processed']= train_df['Title_processed'].apply(remove_url)\n",
    "\n",
    "\n",
    "\n",
    "\n",
    "def remove_at_the_rate_and_mentions(text):\n",
    "\n",
    "      return ' '.join(re.sub(\"(#[A-Za-z0-9]+)|(@[A-Za-z0-9]+)\",\" \",text).split())\n",
    "\n",
    "\n",
    "train_df['Title_processed']= train_df['Title_processed'].apply(remove_at_the_rate_and_mentions)\n",
    "\n",
    "\n",
    "#Remmove punctuation\n",
    "\n",
    "import string\n",
    "\n",
    "punc = string.punctuation\n",
    "\n",
    "def  remove_punc(text):\n",
    "\n",
    "    return text.translate(str.maketrans('', '', punc))\n",
    "\n",
    "train_df['Title_processed']= train_df['Title_processed'].apply(remove_punc)\n",
    "\n",
    "\n",
    "\n",
    "\n",
    "from nltk.corpus import stopwords\n",
    "\n",
    "stopwords = stopwords.words('english')\n",
    "\n",
    "def remove_stop_words(text):\n",
    "    ls = []\n",
    "    new = []\n",
    "\n",
    "    ls = nlp(text)\n",
    "\n",
    "    for word in ls:\n",
    "        if word.text not in stopwords:\n",
    "\n",
    "            new.append(word.text)\n",
    "\n",
    "    return ' '.join(new)\n",
    "\n",
    "train_df['Title_processed'] = train_df['Title_processed'].apply(remove_stop_words)\n",
    "\n",
    "\n",
    "\n",
    "def Lemmetization(text):\n",
    "\n",
    "    return \" \".join([word.lemma_ for word in nlp(text)])\n",
    "\n",
    "\n",
    "\n",
    "train_df['Title_processed'] = train_df['Title_processed'].apply(Lemmetization)\n",
    "\n",
    "\n"
   ]
  },
  {
   "cell_type": "code",
   "execution_count": 23,
   "id": "ee835440-301d-46aa-b113-50528710d985",
   "metadata": {
    "id": "ee835440-301d-46aa-b113-50528710d985",
    "tags": []
   },
   "outputs": [],
   "source": [
    "# train_df.drop(columns='Title_processed', axis=1, inplace=True)"
   ]
  },
  {
   "cell_type": "code",
   "execution_count": 24,
   "id": "52055c5e-0c31-445c-9401-ead68704d687",
   "metadata": {
    "id": "52055c5e-0c31-445c-9401-ead68704d687",
    "tags": []
   },
   "outputs": [],
   "source": [
    "string = train_df.iloc[1, 1]"
   ]
  },
  {
   "cell_type": "code",
   "execution_count": 25,
   "id": "466af604-bdf8-4474-ad94-575f1667a4a2",
   "metadata": {
    "colab": {
     "base_uri": "https://localhost:8080/",
     "height": 35
    },
    "id": "466af604-bdf8-4474-ad94-575f1667a4a2",
    "outputId": "da11c851-6d46-4601-c92d-7f92fe67fde9",
    "tags": []
   },
   "outputs": [
    {
     "data": {
      "text/plain": [
       "'carlyle looks toward commercial aerospace (reuters)'"
      ]
     },
     "execution_count": 25,
     "metadata": {},
     "output_type": "execute_result"
    }
   ],
   "source": [
    "string.lower()"
   ]
  },
  {
   "cell_type": "code",
   "execution_count": 26,
   "id": "e3edd32a-0482-4869-8cad-f8446ae7b8ee",
   "metadata": {
    "id": "e3edd32a-0482-4869-8cad-f8446ae7b8ee",
    "tags": []
   },
   "outputs": [],
   "source": [
    "def insert_spaces_at_begining(string):\n",
    "    string = ' ' + string\n",
    "    return string"
   ]
  },
  {
   "cell_type": "code",
   "execution_count": null,
   "id": "f5879f5d-44b5-42ea-9485-8e0c51265581",
   "metadata": {
    "id": "f5879f5d-44b5-42ea-9485-8e0c51265581",
    "tags": []
   },
   "outputs": [],
   "source": [
    "train_df['Description_preprocessed'] = train_df['Description_preprocessed'].apply(insert_spaces_at_begining)"
   ]
  },
  {
   "cell_type": "code",
   "execution_count": null,
   "id": "25674864-906b-449d-8873-da16171a6c18",
   "metadata": {
    "id": "25674864-906b-449d-8873-da16171a6c18",
    "tags": []
   },
   "outputs": [],
   "source": [
    "train_df['tags'] = train_df['Title_processed'] + train_df['Description_preprocessed']"
   ]
  },
  {
   "cell_type": "code",
   "execution_count": null,
   "id": "b78174c2-e741-4d25-82fe-eefbd7a25e82",
   "metadata": {
    "colab": {
     "base_uri": "https://localhost:8080/",
     "height": 177
    },
    "id": "b78174c2-e741-4d25-82fe-eefbd7a25e82",
    "outputId": "66131e24-5047-4e92-ab97-1bd6e01575ab",
    "tags": []
   },
   "outputs": [],
   "source": [
    "train_df.head(1)"
   ]
  },
  {
   "cell_type": "code",
   "execution_count": null,
   "id": "688dbaf3-ab6c-4330-b91d-db7214668d2b",
   "metadata": {
    "tags": []
   },
   "outputs": [],
   "source": [
    "train_df['tags_preprocessed'] = train_df['Title_processed'] + train_df['Description_preprocessed']"
   ]
  },
  {
   "cell_type": "code",
   "execution_count": null,
   "id": "0dd9be50-c2c3-48a4-abe1-8ca6e799eafb",
   "metadata": {
    "tags": []
   },
   "outputs": [],
   "source": [
    "train_df.to_csv('train_transformed.csv', index=False)"
   ]
  },
  {
   "cell_type": "code",
   "execution_count": null,
   "id": "42585e05-fc29-408e-888d-85351d650425",
   "metadata": {
    "tags": []
   },
   "outputs": [],
   "source": [
    "def making_corpus(string):\n",
    "    data = string.split()\n",
    "    return data"
   ]
  },
  {
   "cell_type": "code",
   "execution_count": null,
   "id": "8ada33e0-2d43-4faa-8698-9684949bdeff",
   "metadata": {
    "tags": []
   },
   "outputs": [],
   "source": [
    "string = 'wall st bear claw back black reuterreuter short seller wall street dwindlingband ultra cynic see green'"
   ]
  },
  {
   "cell_type": "code",
   "execution_count": null,
   "id": "b44b3d3c-2355-4392-9a7f-33b22ff6e0da",
   "metadata": {
    "tags": []
   },
   "outputs": [],
   "source": [
    "making_corpus(string)"
   ]
  },
  {
   "cell_type": "code",
   "execution_count": null,
   "id": "eaf54795-d866-43fd-af05-dcc5dd7f46ba",
   "metadata": {
    "tags": []
   },
   "outputs": [],
   "source": [
    "train_df['tags_preprocessed'] = train_df['tags_preprocessed'].apply(making_corpus)"
   ]
  },
  {
   "cell_type": "code",
   "execution_count": null,
   "id": "759590eb-df56-4a88-9dc4-0024f6e7e605",
   "metadata": {
    "tags": []
   },
   "outputs": [],
   "source": [
    "corpus=[]"
   ]
  },
  {
   "cell_type": "code",
   "execution_count": null,
   "id": "DCYf1Ynb7zCo",
   "metadata": {
    "id": "DCYf1Ynb7zCo",
    "tags": []
   },
   "outputs": [],
   "source": [
    "def corpus_formation_full(ls):\n",
    "    corpus.append(ls)"
   ]
  },
  {
   "cell_type": "code",
   "execution_count": null,
   "id": "evlL--kg7zb7",
   "metadata": {
    "id": "evlL--kg7zb7",
    "tags": []
   },
   "outputs": [],
   "source": [
    "train_df['tags_preprocessed'] = train_df['tags_preprocessed'].apply(corpus_formation_full)"
   ]
  },
  {
   "cell_type": "code",
   "execution_count": null,
   "id": "df1e5d25-ca12-4eab-a2b0-a1cd47504560",
   "metadata": {
    "tags": []
   },
   "outputs": [],
   "source": [
    "corpus"
   ]
  },
  {
   "cell_type": "code",
   "execution_count": 40,
   "id": "rZaM166U7z1n",
   "metadata": {
    "id": "rZaM166U7z1n",
    "tags": []
   },
   "outputs": [],
   "source": [
    "# from itertools import chain\n",
    "# flatten_corpus = list(chain.from_iterable(corpus))"
   ]
  },
  {
   "cell_type": "code",
   "execution_count": 41,
   "id": "5ec8dc97-1073-43e9-8d98-509c54921dac",
   "metadata": {
    "tags": []
   },
   "outputs": [],
   "source": [
    "#Using pretrained wor2vec"
   ]
  },
  {
   "cell_type": "code",
   "execution_count": 42,
   "id": "45795daf-d10f-4fa3-bd1d-5d11f129febf",
   "metadata": {
    "tags": []
   },
   "outputs": [],
   "source": [
    "import gensim.downloader"
   ]
  },
  {
   "cell_type": "code",
   "execution_count": null,
   "id": "208f6ca0-7d01-47a5-9f15-4ec4d3399af6",
   "metadata": {
    "tags": []
   },
   "outputs": [
    {
     "name": "stdout",
     "output_type": "stream",
     "text": [
      "[===============-----------------------------------] 30.4% 505.3/1662.8MB downloaded"
     ]
    }
   ],
   "source": [
    "google_news_word2vec_model = gensim.downloader.load('word2vec-google-news-300')"
   ]
  },
  {
   "cell_type": "code",
   "execution_count": null,
   "id": "ySX00VxA70QD",
   "metadata": {
    "id": "ySX00VxA70QD"
   },
   "outputs": [],
   "source": [
    "model = gensim.models.Word2Vec(window=10, min_count=1, workers=8, vector_size=300, sg=1, negative=10)"
   ]
  },
  {
   "cell_type": "code",
   "execution_count": null,
   "id": "p67efYoV70oO",
   "metadata": {
    "id": "p67efYoV70oO"
   },
   "outputs": [],
   "source": [
    "model.build_vocab(flatten_corpus)"
   ]
  },
  {
   "cell_type": "code",
   "execution_count": null,
   "id": "k8LdLZCd70_R",
   "metadata": {
    "colab": {
     "base_uri": "https://localhost:8080/"
    },
    "id": "k8LdLZCd70_R",
    "outputId": "58750628-ce03-47dc-e619-72b0f5829843"
   },
   "outputs": [
    {
     "data": {
      "text/plain": [
       "(28786838, 30699550)"
      ]
     },
     "execution_count": 49,
     "metadata": {},
     "output_type": "execute_result"
    }
   ],
   "source": [
    "model.train(flatten_corpus, total_examples=model.corpus_count, epochs=10)"
   ]
  },
  {
   "cell_type": "code",
   "execution_count": null,
   "id": "HPSlnIC58YF4",
   "metadata": {
    "colab": {
     "base_uri": "https://localhost:8080/",
     "height": 200
    },
    "id": "HPSlnIC58YF4",
    "outputId": "d816590d-abd9-4d88-8890-e34767c84901",
    "tags": []
   },
   "outputs": [],
   "source": [
    "#Building vocabulary\n",
    "vocabulary = google_news_word2vec_model.index_to_key"
   ]
  },
  {
   "cell_type": "code",
   "execution_count": null,
   "id": "5awF5l6Wo_FT",
   "metadata": {
    "colab": {
     "base_uri": "https://localhost:8080/",
     "height": 181
    },
    "id": "5awF5l6Wo_FT",
    "outputId": "2bd5f0ca-905c-473b-f30d-8be969523758",
    "tags": []
   },
   "outputs": [],
   "source": [
    "len(vocabulary)"
   ]
  },
  {
   "cell_type": "code",
   "execution_count": null,
   "id": "0mGx3iR78YgB",
   "metadata": {
    "id": "0mGx3iR78YgB",
    "tags": []
   },
   "outputs": [],
   "source": [
    "word_vec_dict = {}\n",
    "\n",
    "for i in vocabulary:\n",
    "      word_vec_dict[i] = google_news_word2vec_model.get_vector(i)\n",
    "print(len(word_vec_dict))"
   ]
  },
  {
   "cell_type": "code",
   "execution_count": null,
   "id": "bc02dbc8-229c-4e04-806e-5b1c9e3ddc1a",
   "metadata": {},
   "outputs": [],
   "source": [
    "tok = Tokenizer()\n",
    "tok.fit_on_texts(train_df['tags_preprocessed'])\n",
    "vocab_size = len(tok.word_index) + 1"
   ]
  },
  {
   "cell_type": "code",
   "execution_count": null,
   "id": "b204fd9c-e93e-44d9-9cfc-3cc5fccc1aed",
   "metadata": {},
   "outputs": [],
   "source": [
    "def cnt_len_of_each sentence(string):\n",
    "    length = len(string.split())"
   ]
  },
  {
   "cell_type": "code",
   "execution_count": null,
   "id": "78a1fc13-b372-4f71-a051-0a383d7fedb3",
   "metadata": {},
   "outputs": [],
   "source": [
    "train_df['cnt'] = train_df['tags_preprocessed'].apply(cnt_len_of_each)"
   ]
  },
  {
   "cell_type": "code",
   "execution_count": null,
   "id": "a76f99bc-c646-49b1-89c4-8fdbecaab22c",
   "metadata": {},
   "outputs": [],
   "source": [
    "max_len = "
   ]
  },
  {
   "cell_type": "code",
   "execution_count": null,
   "id": "6b7fdd7e-715f-4196-9463-c972869b50c3",
   "metadata": {},
   "outputs": [],
   "source": [
    "encd_reviews = tok.texts_to_sequences(train_df['tags_preprocessed'])"
   ]
  },
  {
   "cell_type": "code",
   "execution_count": null,
   "id": "509f5bfd-519b-4b22-907e-1496d372ce97",
   "metadata": {},
   "outputs": [],
   "source": [
    "embd_dim = 300"
   ]
  },
  {
   "cell_type": "code",
   "execution_count": null,
   "id": "aa4cfd4e-d18c-4a91-a98b-130c7834daaf",
   "metadata": {},
   "outputs": [],
   "source": [
    "pad_reviews = pad_sequences(maxlen = max_len, padding='pre', sequences=encd_reviews)"
   ]
  },
  {
   "cell_type": "code",
   "execution_count": null,
   "id": "a34bbf86-643e-47c4-b5eb-e1cf12de22df",
   "metadata": {},
   "outputs": [],
   "source": [
    "pad_reviews.shape"
   ]
  },
  {
   "cell_type": "code",
   "execution_count": null,
   "id": "b02339a2-5649-407f-8611-e731df0bd17c",
   "metadata": {},
   "outputs": [],
   "source": [
    "all_embd = np.stack(embd_values)\n",
    "embd_mean, embd_std = all_embd.mean(), all_embd.std()"
   ]
  },
  {
   "cell_type": "code",
   "execution_count": null,
   "id": "766fbf64-d55f-42e8-8d85-2b4a70b12674",
   "metadata": {},
   "outputs": [],
   "source": [
    "final_embeddings = np.random.normal(embd_mean, embd_std, (vocab_size, embd_dim))\n",
    "for word , i in tok.word_index.items():\n",
    "    word_embedding = google_news_word2vec_model.get(word)\n",
    "    if word_embedding is not None:\n",
    "        final_embeddings[i] = word_embedding"
   ]
  },
  {
   "cell_type": "code",
   "execution_count": null,
   "id": "b31387c5-62bb-44c2-9893-75002ab9c65f",
   "metadata": {},
   "outputs": [],
   "source": [
    "import pickle"
   ]
  },
  {
   "cell_type": "code",
   "execution_count": null,
   "id": "9f13ab1f-61fa-4c3d-8d00-a5b881efa180",
   "metadata": {},
   "outputs": [],
   "source": [
    "final_embeddings = pickle.load(open('final_embeddings_toxic_comments_kaggle.pkl', 'rb'))"
   ]
  },
  {
   "cell_type": "code",
   "execution_count": null,
   "id": "6197ade5-bcd8-4fc1-a7ee-557ffaf2268e",
   "metadata": {},
   "outputs": [],
   "source": [
    "from keras.initializers import Constant\n",
    "from keras.layers import ReLU, Bidirectional\n",
    "from keras.layers import Dropout\n",
    "from keras.layers import GlobalMaxPool1D, BatchNormalization\n",
    "import tensorflow as tf\n",
    "from tensorflow.keras.callbacks import EarlyStopping"
   ]
  },
  {
   "cell_type": "code",
   "execution_count": null,
   "id": "59d11179-2f65-418d-9827-f9b317703673",
   "metadata": {},
   "outputs": [],
   "source": [
    "model = Sequential()\n",
    "model.add(Input(shape=(max_len, )))\n",
    "model.add(Embedding(input_dim = vocab_size,  output_dim = embd_dim, input_length = max_len, weights = [final_embeddings], trainable=False))\n",
    "model.add(Bidirectional(LSTM(64, return_sequences=True)))\n",
    "model.add(GlobalMaxPool1D())\n",
    "# model.add(BatchNormalization())\n",
    "# model.add(Dense(256, activation='relu'))\n",
    "# model.add(Dropout(0.2))\n",
    "# # model.add(BatchNormalization())\n",
    "# model.add(Dense(128, activation='relu'))\n",
    "# model.add(Dropout(0.2))\n",
    "# # model.add(BatchNormalization())\n",
    "model.add(Dense(64, activation='relu'))\n",
    "# model.add(BatchNormalization())\n",
    "# model.add(Dropout(0.2))\n",
    "model.add(Dense(4, activation='sigmoid'))"
   ]
  },
  {
   "cell_type": "code",
   "execution_count": null,
   "id": "bfb53df8-6118-4c28-a154-c3a81073c08f",
   "metadata": {},
   "outputs": [],
   "source": []
  },
  {
   "cell_type": "code",
   "execution_count": null,
   "id": "771544dc-98d0-4320-b9ae-a48d29cbfe1f",
   "metadata": {},
   "outputs": [],
   "source": []
  },
  {
   "cell_type": "code",
   "execution_count": null,
   "id": "14dc9419-4dc5-4fa2-9fb0-e77251741e9d",
   "metadata": {},
   "outputs": [],
   "source": []
  },
  {
   "cell_type": "code",
   "execution_count": null,
   "id": "a9b0a1ae-0f89-465d-8720-cc7b16f3f9fc",
   "metadata": {},
   "outputs": [],
   "source": []
  },
  {
   "cell_type": "code",
   "execution_count": null,
   "id": "906069cd-3a77-4fe5-9196-074c8e9718dc",
   "metadata": {},
   "outputs": [],
   "source": []
  }
 ],
 "metadata": {
  "colab": {
   "provenance": []
  },
  "kernelspec": {
   "display_name": "Python 3 (ipykernel)",
   "language": "python",
   "name": "python3"
  },
  "language_info": {
   "codemirror_mode": {
    "name": "ipython",
    "version": 3
   },
   "file_extension": ".py",
   "mimetype": "text/x-python",
   "name": "python",
   "nbconvert_exporter": "python",
   "pygments_lexer": "ipython3",
   "version": "3.8.17"
  }
 },
 "nbformat": 4,
 "nbformat_minor": 5
}

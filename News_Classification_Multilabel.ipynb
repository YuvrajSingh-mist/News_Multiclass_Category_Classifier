{
 "cells": [
  {
   "cell_type": "code",
   "execution_count": 15,
   "id": "68d7ed64-54a9-4905-b0df-1f07b89d73d3",
   "metadata": {},
   "outputs": [],
   "source": [
    "import nltk\n",
    "import pandas as pd\n",
    "import numpy as np\n",
    "import seaborn as sns\n",
    "from sklearn.model_selection import train_test_split\n",
    "import matplotlib.pyplot as plt\n",
    "from sklearn.compose import ColumnTransformer\n",
    "from sklearn.experimental import enable_iterative_imputer\n",
    "from statsmodels.stats.outliers_influence import variance_inflation_factor\n",
    "from sklearn.preprocessing import StandardScaler, RobustScaler, MinMaxScaler\n",
    "from sklearn.feature_selection import RFE, RFECV, f_regression, chi2\n",
    "from sklearn.ensemble import RandomForestClassifier\n",
    "from sklearn.pipeline import Pipeline\n",
    "from sklearn.linear_model import LogisticRegression\n",
    "from sklearn.experimental import enable_halving_search_cv\n",
    "from sklearn.model_selection import GridSearchCV, KFold, RandomizedSearchCV, HalvingGridSearchCV\n",
    "from sklearn.model_selection import cross_val_score\n",
    "from sklearn.feature_selection import SelectKBest\n",
    "from sklearn.metrics import accuracy_score, confusion_matrix, classification_report, recall_score, precision_score, f1_score, roc_auc_score\n",
    "from sklearn.ensemble import RandomForestClassifier\n",
    "from sklearn.naive_bayes import GaussianNB, BernoulliNB, MultinomialNB\n",
    "from sklearn.preprocessing import PowerTransformer, QuantileTransformer\n",
    "from mlxtend.feature_selection import SequentialFeatureSelector as SFS\n",
    "from sklearn.neighbors import  KNeighborsClassifier\n",
    "from datetime import datetime as dt\n",
    "from sklearn.impute import SimpleImputer, KNNImputer, IterativeImputer\n",
    "from sklearn.tree import DecisionTreeClassifier\n",
    "from sklearn.svm import SVC, LinearSVC\n",
    "from sklearn.ensemble import GradientBoostingClassifier, AdaBoostClassifier, BaggingClassifier, StackingClassifier\n",
    "from sklearn.ensemble import VotingClassifier\n",
    "from sklearn.preprocessing import OneHotEncoder, OrdinalEncoder, LabelEncoder\n",
    "from imblearn.combine import SMOTETomek\n",
    "from collections import Counter\n",
    "from sklearn.feature_extraction.text import TfidfVectorizer\n",
    "from mlxtend.feature_selection import ColumnSelector\n",
    "import warnings\n",
    "# Settings the warnings to be ignored\n",
    "warnings.filterwarnings('ignore')"
   ]
  },
  {
   "cell_type": "code",
   "execution_count": 16,
   "id": "be7a696d-0adf-43f8-a457-a8e8425db08b",
   "metadata": {},
   "outputs": [],
   "source": [
    "# Displaying all columns\n",
    "pd.set_option('display.max_columns', None)\n",
    "\n",
    "#Display all data in columns\n",
    "pd.set_option(\"display.max_colwidth\", None)\n",
    "\n",
    "np.set_printoptions(threshold=None, edgeitems=None, linewidth=None, suppress=None)\n",
    "pd.set_option(\"display.max_rows\", None)\n",
    "pd.set_option(\"display.expand_frame_repr\", True)\n",
    "pd.set_option('display.width', 1000)\n"
   ]
  },
  {
   "cell_type": "code",
   "execution_count": 17,
   "id": "79483ae4-3985-4d65-8fce-01a005953795",
   "metadata": {},
   "outputs": [],
   "source": [
    "train_df = pd.read_csv('train.csv')"
   ]
  },
  {
   "cell_type": "code",
   "execution_count": 18,
   "id": "95fadff3-5d13-437b-9f52-9506d46cfa4c",
   "metadata": {},
   "outputs": [
    {
     "data": {
      "text/plain": [
       "(120000, 3)"
      ]
     },
     "execution_count": 18,
     "metadata": {},
     "output_type": "execute_result"
    }
   ],
   "source": [
    "train_df.shape"
   ]
  },
  {
   "cell_type": "code",
   "execution_count": 19,
   "id": "a6053efd-0247-4694-92e2-68917a8fde23",
   "metadata": {},
   "outputs": [
    {
     "data": {
      "text/html": [
       "<div>\n",
       "<style scoped>\n",
       "    .dataframe tbody tr th:only-of-type {\n",
       "        vertical-align: middle;\n",
       "    }\n",
       "\n",
       "    .dataframe tbody tr th {\n",
       "        vertical-align: top;\n",
       "    }\n",
       "\n",
       "    .dataframe thead th {\n",
       "        text-align: right;\n",
       "    }\n",
       "</style>\n",
       "<table border=\"1\" class=\"dataframe\">\n",
       "  <thead>\n",
       "    <tr style=\"text-align: right;\">\n",
       "      <th></th>\n",
       "      <th>Class Index</th>\n",
       "      <th>Title</th>\n",
       "      <th>Description</th>\n",
       "    </tr>\n",
       "  </thead>\n",
       "  <tbody>\n",
       "    <tr>\n",
       "      <th>0</th>\n",
       "      <td>3</td>\n",
       "      <td>Wall St. Bears Claw Back Into the Black (Reuters)</td>\n",
       "      <td>Reuters - Short-sellers, Wall Street's dwindling\\band of ultra-cynics, are seeing green again.</td>\n",
       "    </tr>\n",
       "    <tr>\n",
       "      <th>1</th>\n",
       "      <td>3</td>\n",
       "      <td>Carlyle Looks Toward Commercial Aerospace (Reuters)</td>\n",
       "      <td>Reuters - Private investment firm Carlyle Group,\\which has a reputation for making well-timed and occasionally\\controversial plays in the defense industry, has quietly placed\\its bets on another part of the market.</td>\n",
       "    </tr>\n",
       "    <tr>\n",
       "      <th>2</th>\n",
       "      <td>3</td>\n",
       "      <td>Oil and Economy Cloud Stocks' Outlook (Reuters)</td>\n",
       "      <td>Reuters - Soaring crude prices plus worries\\about the economy and the outlook for earnings are expected to\\hang over the stock market next week during the depth of the\\summer doldrums.</td>\n",
       "    </tr>\n",
       "    <tr>\n",
       "      <th>3</th>\n",
       "      <td>3</td>\n",
       "      <td>Iraq Halts Oil Exports from Main Southern Pipeline (Reuters)</td>\n",
       "      <td>Reuters - Authorities have halted oil export\\flows from the main pipeline in southern Iraq after\\intelligence showed a rebel militia could strike\\infrastructure, an oil official said on Saturday.</td>\n",
       "    </tr>\n",
       "    <tr>\n",
       "      <th>4</th>\n",
       "      <td>3</td>\n",
       "      <td>Oil prices soar to all-time record, posing new menace to US economy (AFP)</td>\n",
       "      <td>AFP - Tearaway world oil prices, toppling records and straining wallets, present a new economic menace barely three months before the US presidential elections.</td>\n",
       "    </tr>\n",
       "  </tbody>\n",
       "</table>\n",
       "</div>"
      ],
      "text/plain": [
       "   Class Index                                                                      Title                                                                                                                                                                                                             Description\n",
       "0            3                          Wall St. Bears Claw Back Into the Black (Reuters)                                                                                                                          Reuters - Short-sellers, Wall Street's dwindling\\band of ultra-cynics, are seeing green again.\n",
       "1            3                        Carlyle Looks Toward Commercial Aerospace (Reuters)  Reuters - Private investment firm Carlyle Group,\\which has a reputation for making well-timed and occasionally\\controversial plays in the defense industry, has quietly placed\\its bets on another part of the market.\n",
       "2            3                            Oil and Economy Cloud Stocks' Outlook (Reuters)                                Reuters - Soaring crude prices plus worries\\about the economy and the outlook for earnings are expected to\\hang over the stock market next week during the depth of the\\summer doldrums.\n",
       "3            3               Iraq Halts Oil Exports from Main Southern Pipeline (Reuters)                     Reuters - Authorities have halted oil export\\flows from the main pipeline in southern Iraq after\\intelligence showed a rebel militia could strike\\infrastructure, an oil official said on Saturday.\n",
       "4            3  Oil prices soar to all-time record, posing new menace to US economy (AFP)                                                        AFP - Tearaway world oil prices, toppling records and straining wallets, present a new economic menace barely three months before the US presidential elections."
      ]
     },
     "execution_count": 19,
     "metadata": {},
     "output_type": "execute_result"
    }
   ],
   "source": [
    "train_df.head(5)"
   ]
  },
  {
   "cell_type": "code",
   "execution_count": 20,
   "id": "32f17156-f081-4a18-86df-80f076c42f5b",
   "metadata": {},
   "outputs": [],
   "source": [
    "train_df['Description_preprocessed'] = train_df['Description']"
   ]
  },
  {
   "cell_type": "code",
   "execution_count": 21,
   "id": "de7ab09a-4b56-4de6-a78a-833883ba1603",
   "metadata": {},
   "outputs": [
    {
     "data": {
      "text/html": [
       "<div>\n",
       "<style scoped>\n",
       "    .dataframe tbody tr th:only-of-type {\n",
       "        vertical-align: middle;\n",
       "    }\n",
       "\n",
       "    .dataframe tbody tr th {\n",
       "        vertical-align: top;\n",
       "    }\n",
       "\n",
       "    .dataframe thead th {\n",
       "        text-align: right;\n",
       "    }\n",
       "</style>\n",
       "<table border=\"1\" class=\"dataframe\">\n",
       "  <thead>\n",
       "    <tr style=\"text-align: right;\">\n",
       "      <th></th>\n",
       "      <th>Class Index</th>\n",
       "      <th>Title</th>\n",
       "      <th>Description</th>\n",
       "      <th>Description_preprocessed</th>\n",
       "    </tr>\n",
       "  </thead>\n",
       "  <tbody>\n",
       "    <tr>\n",
       "      <th>0</th>\n",
       "      <td>3</td>\n",
       "      <td>Wall St. Bears Claw Back Into the Black (Reuters)</td>\n",
       "      <td>Reuters - Short-sellers, Wall Street's dwindling\\band of ultra-cynics, are seeing green again.</td>\n",
       "      <td>Reuters - Short-sellers, Wall Street's dwindling\\band of ultra-cynics, are seeing green again.</td>\n",
       "    </tr>\n",
       "    <tr>\n",
       "      <th>1</th>\n",
       "      <td>3</td>\n",
       "      <td>Carlyle Looks Toward Commercial Aerospace (Reuters)</td>\n",
       "      <td>Reuters - Private investment firm Carlyle Group,\\which has a reputation for making well-timed and occasionally\\controversial plays in the defense industry, has quietly placed\\its bets on another part of the market.</td>\n",
       "      <td>Reuters - Private investment firm Carlyle Group,\\which has a reputation for making well-timed and occasionally\\controversial plays in the defense industry, has quietly placed\\its bets on another part of the market.</td>\n",
       "    </tr>\n",
       "    <tr>\n",
       "      <th>2</th>\n",
       "      <td>3</td>\n",
       "      <td>Oil and Economy Cloud Stocks' Outlook (Reuters)</td>\n",
       "      <td>Reuters - Soaring crude prices plus worries\\about the economy and the outlook for earnings are expected to\\hang over the stock market next week during the depth of the\\summer doldrums.</td>\n",
       "      <td>Reuters - Soaring crude prices plus worries\\about the economy and the outlook for earnings are expected to\\hang over the stock market next week during the depth of the\\summer doldrums.</td>\n",
       "    </tr>\n",
       "    <tr>\n",
       "      <th>3</th>\n",
       "      <td>3</td>\n",
       "      <td>Iraq Halts Oil Exports from Main Southern Pipeline (Reuters)</td>\n",
       "      <td>Reuters - Authorities have halted oil export\\flows from the main pipeline in southern Iraq after\\intelligence showed a rebel militia could strike\\infrastructure, an oil official said on Saturday.</td>\n",
       "      <td>Reuters - Authorities have halted oil export\\flows from the main pipeline in southern Iraq after\\intelligence showed a rebel militia could strike\\infrastructure, an oil official said on Saturday.</td>\n",
       "    </tr>\n",
       "    <tr>\n",
       "      <th>4</th>\n",
       "      <td>3</td>\n",
       "      <td>Oil prices soar to all-time record, posing new menace to US economy (AFP)</td>\n",
       "      <td>AFP - Tearaway world oil prices, toppling records and straining wallets, present a new economic menace barely three months before the US presidential elections.</td>\n",
       "      <td>AFP - Tearaway world oil prices, toppling records and straining wallets, present a new economic menace barely three months before the US presidential elections.</td>\n",
       "    </tr>\n",
       "  </tbody>\n",
       "</table>\n",
       "</div>"
      ],
      "text/plain": [
       "   Class Index                                                                      Title                                                                                                                                                                                                             Description                                                                                                                                                                                                Description_preprocessed\n",
       "0            3                          Wall St. Bears Claw Back Into the Black (Reuters)                                                                                                                          Reuters - Short-sellers, Wall Street's dwindling\\band of ultra-cynics, are seeing green again.                                                                                                                          Reuters - Short-sellers, Wall Street's dwindling\\band of ultra-cynics, are seeing green again.\n",
       "1            3                        Carlyle Looks Toward Commercial Aerospace (Reuters)  Reuters - Private investment firm Carlyle Group,\\which has a reputation for making well-timed and occasionally\\controversial plays in the defense industry, has quietly placed\\its bets on another part of the market.  Reuters - Private investment firm Carlyle Group,\\which has a reputation for making well-timed and occasionally\\controversial plays in the defense industry, has quietly placed\\its bets on another part of the market.\n",
       "2            3                            Oil and Economy Cloud Stocks' Outlook (Reuters)                                Reuters - Soaring crude prices plus worries\\about the economy and the outlook for earnings are expected to\\hang over the stock market next week during the depth of the\\summer doldrums.                                Reuters - Soaring crude prices plus worries\\about the economy and the outlook for earnings are expected to\\hang over the stock market next week during the depth of the\\summer doldrums.\n",
       "3            3               Iraq Halts Oil Exports from Main Southern Pipeline (Reuters)                     Reuters - Authorities have halted oil export\\flows from the main pipeline in southern Iraq after\\intelligence showed a rebel militia could strike\\infrastructure, an oil official said on Saturday.                     Reuters - Authorities have halted oil export\\flows from the main pipeline in southern Iraq after\\intelligence showed a rebel militia could strike\\infrastructure, an oil official said on Saturday.\n",
       "4            3  Oil prices soar to all-time record, posing new menace to US economy (AFP)                                                        AFP - Tearaway world oil prices, toppling records and straining wallets, present a new economic menace barely three months before the US presidential elections.                                                        AFP - Tearaway world oil prices, toppling records and straining wallets, present a new economic menace barely three months before the US presidential elections."
      ]
     },
     "execution_count": 21,
     "metadata": {},
     "output_type": "execute_result"
    }
   ],
   "source": [
    "train_df.head(5)"
   ]
  },
  {
   "cell_type": "code",
   "execution_count": 22,
   "id": "74d61c23-2b7f-40a5-b572-0f3ed8771dbc",
   "metadata": {
    "tags": []
   },
   "outputs": [
    {
     "name": "stderr",
     "output_type": "stream",
     "text": [
      "[nltk_data] Downloading package stopwords to /home/mist/nltk_data...\n",
      "[nltk_data]   Package stopwords is already up-to-date!\n",
      "[nltk_data] Downloading package punkt to /home/mist/nltk_data...\n",
      "[nltk_data]   Package punkt is already up-to-date!\n",
      "[nltk_data] Downloading package wordnet to /home/mist/nltk_data...\n",
      "[nltk_data]   Package wordnet is already up-to-date!\n"
     ]
    },
    {
     "data": {
      "text/plain": [
       "True"
      ]
     },
     "execution_count": 22,
     "metadata": {},
     "output_type": "execute_result"
    }
   ],
   "source": [
    "#Dependencies\n",
    "nltk.download('stopwords')\n",
    "nltk.download('punkt')\n",
    "nltk.download('wordnet')"
   ]
  },
  {
   "cell_type": "code",
   "execution_count": 23,
   "id": "b8ce4f6a-d6b9-4f7f-b878-9a21f4472dc1",
   "metadata": {},
   "outputs": [
    {
     "data": {
      "text/plain": [
       "0"
      ]
     },
     "execution_count": 23,
     "metadata": {},
     "output_type": "execute_result"
    }
   ],
   "source": [
    "train_df.duplicated().sum()"
   ]
  },
  {
   "cell_type": "code",
   "execution_count": 24,
   "id": "9d8ff703-1783-42ca-ba5f-715064418e42",
   "metadata": {
    "tags": []
   },
   "outputs": [
    {
     "data": {
      "text/plain": [
       "Class Index                 0\n",
       "Title                       0\n",
       "Description                 0\n",
       "Description_preprocessed    0\n",
       "dtype: int64"
      ]
     },
     "execution_count": 24,
     "metadata": {},
     "output_type": "execute_result"
    }
   ],
   "source": [
    "train_df.isnull().sum()"
   ]
  },
  {
   "cell_type": "code",
   "execution_count": 25,
   "id": "2707189d-5fff-4a13-9f7c-6719aead2208",
   "metadata": {
    "tags": []
   },
   "outputs": [
    {
     "data": {
      "text/plain": [
       "Class Index\n",
       "3    30000\n",
       "4    30000\n",
       "2    30000\n",
       "1    30000\n",
       "Name: count, dtype: int64"
      ]
     },
     "execution_count": 25,
     "metadata": {},
     "output_type": "execute_result"
    }
   ],
   "source": [
    "train_df['Class Index'].value_counts()  #Not imbalanced"
   ]
  },
  {
   "cell_type": "code",
   "execution_count": 26,
   "id": "bb1764bd-5fe2-4bf6-87e7-17b5ca03a28d",
   "metadata": {
    "tags": []
   },
   "outputs": [],
   "source": [
    "#Preprocessing the description"
   ]
  },
  {
   "cell_type": "code",
   "execution_count": 27,
   "id": "55ac9ddd-85c7-4dda-a5c9-c30cdc672178",
   "metadata": {
    "tags": []
   },
   "outputs": [],
   "source": [
    "import spacy\n",
    "\n",
    "nlp = spacy.load('en_core_web_sm')"
   ]
  },
  {
   "cell_type": "code",
   "execution_count": 28,
   "id": "a000dca3-6567-435b-9aa0-d0bc0207efc3",
   "metadata": {
    "tags": []
   },
   "outputs": [],
   "source": [
    "#Preprocessing 'overview' column\n",
    "\n",
    "#Lowercasing\n",
    "\n",
    "train_df['Description_preprocessed'] = train_df['Description_preprocessed'].str.lower()\n",
    "\n",
    "\n",
    "# Removing HTML tags\n",
    "\n",
    "import re\n",
    "\n",
    "def remove_html(text):\n",
    "    pattern = re.compile('<.*?>')\n",
    "    return pattern.sub(r'', text)\n",
    "\n",
    "train_df['Description_preprocessed'] = train_df['Description_preprocessed'].apply(remove_html)\n",
    "# print(df.head())\n",
    "\n",
    "\n",
    "#Remove @\n",
    "\n",
    "def remove_at_the_rate(text):\n",
    "\n",
    "    ls = []\n",
    "    new = []\n",
    "\n",
    "    ls = nlp(text)\n",
    "\n",
    "    for word in ls:\n",
    "        if word.text != \"@\":\n",
    "            new.append(word.text)\n",
    "\n",
    "    return ' '.join(new)\n",
    "\n",
    "train_df['Description_preprocessed'] = train_df['Description_preprocessed'].apply(remove_at_the_rate)\n",
    "\n",
    "\n",
    "\n",
    "#Removing URL\n",
    "\n",
    "import re\n",
    "\n",
    "def remove_url(text):\n",
    "    pattern = re.compile(r'https?://\\S+|www\\.\\S+')\n",
    "    return pattern.sub(r'', text)\n",
    "\n",
    "train_df['Description_preprocessed']= train_df['Description_preprocessed'].apply(remove_url)\n",
    "# print(df.head())\n",
    "\n",
    "\n",
    "#Remmove punctuation\n",
    "\n",
    "import string\n",
    "\n",
    "punc = string.punctuation\n",
    "\n",
    "def  remove_punc(text):\n",
    "\n",
    "    return text.translate(str.maketrans('', '', punc))\n",
    "\n",
    "train_df['Description_preprocessed']= train_df['Description_preprocessed'].apply(remove_punc)\n",
    "\n",
    "\n",
    "\n",
    "from autocorrect import Speller\n",
    "\n",
    "check = Speller()\n",
    "\n",
    "def check_spell(text):\n",
    "\n",
    "    return check(text)\n",
    "\n",
    "# train_df['Description_preprocessed'] = train_df['Description_preprocessed'].apply(check_spell)\n",
    "\n",
    "\n",
    "# Removing stop words\n",
    "\n",
    "\n",
    "from nltk.corpus import stopwords\n",
    "\n",
    "stopwords = stopwords.words('english')\n",
    "\n",
    "def remove_stop_words(text):\n",
    "    ls = []\n",
    "    new = []\n",
    "\n",
    "    ls = nlp(text)\n",
    "\n",
    "    for word in ls:\n",
    "        if word.text not in stopwords:\n",
    "\n",
    "            new.append(word.text)\n",
    "\n",
    "    return ' '.join(new)\n",
    "\n",
    "train_df['Description_preprocessed'] = train_df['Description_preprocessed'].apply(remove_stop_words)\n",
    "\n",
    "\n",
    "#Removing Contradictions\n",
    "\n",
    "import contractions\n",
    "\n",
    "def remove_contradictions(text):\n",
    "\n",
    "    return \" \".join([contractions.fix(word.text) for word in nlp(text)])\n",
    "\n",
    "train_df['Description_preprocessed']= train_df['Description_preprocessed'].apply(remove_contradictions)\n",
    "\n",
    "\n",
    "\n",
    "def Lemmetization(text):\n",
    "\n",
    "    return \" \".join([word.lemma_ for word in nlp(text)])\n",
    "\n",
    "\n",
    "# #Stemming\n",
    "\n",
    "# from nltk.stem.porter import PorterStemmer\n",
    "\n",
    "# ps = PorterStemmer()\n",
    "# def stemming(text):\n",
    "\n",
    "#     return \" \".join([ps.stem(word.text) for word in nlp(text)])\n",
    "\n",
    "train_df['Description_preprocessed'] = train_df['Description_preprocessed'].apply(Lemmetization)\n",
    "\n",
    "\n"
   ]
  },
  {
   "cell_type": "code",
   "execution_count": 29,
   "id": "8bd0561e-4089-44a2-b35f-2156b08599d0",
   "metadata": {
    "tags": []
   },
   "outputs": [],
   "source": [
    "#Preprocesing the 'Title' column"
   ]
  },
  {
   "cell_type": "code",
   "execution_count": 31,
   "id": "976414a0-5d15-4ab6-9c5a-896652df6f60",
   "metadata": {
    "tags": []
   },
   "outputs": [],
   "source": [
    "train_df['Title_processed'] = train_df['Title']"
   ]
  },
  {
   "cell_type": "code",
   "execution_count": 33,
   "id": "7ae5e2c3-10da-415f-92a3-c358ccfb5443",
   "metadata": {
    "tags": []
   },
   "outputs": [],
   "source": [
    "#Preprocessing 'overview' column\n",
    "\n",
    "#Lowercasing\n",
    "\n",
    "train_df['Title_processed'] = train_df['Title_processed'].str.lower()\n",
    "\n",
    "\n",
    "# Removing HTML tags\n",
    "\n",
    "import re\n",
    "\n",
    "def remove_html(text):\n",
    "    pattern = re.compile('<.*?>')\n",
    "    return pattern.sub(r'', text)\n",
    "\n",
    "train_df['Title_processed'] = train_df['Title_processed'].apply(remove_html)\n",
    "# print(df.head())\n",
    "\n",
    "\n",
    "#Remove @\n",
    "\n",
    "def remove_at_the_rate(text):\n",
    "\n",
    "    ls = []\n",
    "    new = []\n",
    "\n",
    "    ls = nlp(text)\n",
    "\n",
    "    for word in ls:\n",
    "        if word.text != \"@\":\n",
    "            new.append(word.text)\n",
    "\n",
    "    return ' '.join(new)\n",
    "\n",
    "train_df['Title_processed'] = train_df['Title_processed'].apply(remove_at_the_rate)\n",
    "\n",
    "\n",
    "\n",
    "#Removing URL\n",
    "\n",
    "import re\n",
    "\n",
    "def remove_url(text):\n",
    "    pattern = re.compile(r'https?://\\S+|www\\.\\S+')\n",
    "    return pattern.sub(r'', text)\n",
    "\n",
    "train_df['Title_processed']= train_df['Title_processed'].apply(remove_url)\n",
    "# print(df.head())\n",
    "\n",
    "\n",
    "#Remmove punctuation\n",
    "\n",
    "import string\n",
    "\n",
    "punc = string.punctuation\n",
    "\n",
    "def  remove_punc(text):\n",
    "\n",
    "    return text.translate(str.maketrans('', '', punc))\n",
    "\n",
    "train_df['Title_processed']= train_df['Title_processed'].apply(remove_punc)\n",
    "\n",
    "\n",
    "\n",
    "\n",
    "from nltk.corpus import stopwords\n",
    "\n",
    "stopwords = stopwords.words('english')\n",
    "\n",
    "def remove_stop_words(text):\n",
    "    ls = []\n",
    "    new = []\n",
    "\n",
    "    ls = nlp(text)\n",
    "\n",
    "    for word in ls:\n",
    "        if word.text not in stopwords:\n",
    "\n",
    "            new.append(word.text)\n",
    "\n",
    "    return ' '.join(new)\n",
    "\n",
    "train_df['Title_processed'] = train_df['Title_processed'].apply(remove_stop_words)\n",
    "\n",
    "\n",
    "#Removing Contradictions\n",
    "\n",
    "import contractions\n",
    "\n",
    "def remove_contradictions(text):\n",
    "\n",
    "    return \" \".join([contractions.fix(word.text) for word in nlp(text)])\n",
    "\n",
    "train_df['Title_processed']= train_df['Title_processed'].apply(remove_contradictions)\n",
    "\n",
    "\n",
    "\n",
    "def Lemmetization(text):\n",
    "\n",
    "    return \" \".join([word.lemma_ for word in nlp(text)])\n",
    "\n",
    "\n",
    "\n",
    "train_df['Title_processed'] = train_df['Title_processed'].apply(Lemmetization)\n",
    "\n",
    "\n"
   ]
  },
  {
   "cell_type": "code",
   "execution_count": 34,
   "id": "ee835440-301d-46aa-b113-50528710d985",
   "metadata": {
    "tags": []
   },
   "outputs": [],
   "source": [
    "# train_df.drop(columns='Title_processed', axis=1, inplace=True)"
   ]
  },
  {
   "cell_type": "code",
   "execution_count": 35,
   "id": "52055c5e-0c31-445c-9401-ead68704d687",
   "metadata": {
    "tags": []
   },
   "outputs": [],
   "source": [
    "string = train_df.iloc[1, 1]"
   ]
  },
  {
   "cell_type": "code",
   "execution_count": 36,
   "id": "466af604-bdf8-4474-ad94-575f1667a4a2",
   "metadata": {
    "tags": []
   },
   "outputs": [
    {
     "data": {
      "text/plain": [
       "'carlyle looks toward commercial aerospace (reuters)'"
      ]
     },
     "execution_count": 36,
     "metadata": {},
     "output_type": "execute_result"
    }
   ],
   "source": [
    "string.lower()"
   ]
  },
  {
   "cell_type": "code",
   "execution_count": 37,
   "id": "e3edd32a-0482-4869-8cad-f8446ae7b8ee",
   "metadata": {
    "tags": []
   },
   "outputs": [],
   "source": [
    "def insert_spaces_at_begining(string):\n",
    "    string = ' ' + string\n",
    "    return string"
   ]
  },
  {
   "cell_type": "code",
   "execution_count": 38,
   "id": "f5879f5d-44b5-42ea-9485-8e0c51265581",
   "metadata": {
    "tags": []
   },
   "outputs": [],
   "source": [
    "# train_df['Description_preprocessed'] = train_df['Description_preprocessed'].apply(insert_spaces_at_begining)"
   ]
  },
  {
   "cell_type": "code",
   "execution_count": 39,
   "id": "25674864-906b-449d-8873-da16171a6c18",
   "metadata": {
    "tags": []
   },
   "outputs": [],
   "source": [
    "train_df['tags'] = train_df['Title_processed'] + train_df['Description_preprocessed']"
   ]
  },
  {
   "cell_type": "code",
   "execution_count": 40,
   "id": "b78174c2-e741-4d25-82fe-eefbd7a25e82",
   "metadata": {
    "tags": []
   },
   "outputs": [
    {
     "data": {
      "text/html": [
       "<div>\n",
       "<style scoped>\n",
       "    .dataframe tbody tr th:only-of-type {\n",
       "        vertical-align: middle;\n",
       "    }\n",
       "\n",
       "    .dataframe tbody tr th {\n",
       "        vertical-align: top;\n",
       "    }\n",
       "\n",
       "    .dataframe thead th {\n",
       "        text-align: right;\n",
       "    }\n",
       "</style>\n",
       "<table border=\"1\" class=\"dataframe\">\n",
       "  <thead>\n",
       "    <tr style=\"text-align: right;\">\n",
       "      <th></th>\n",
       "      <th>Class Index</th>\n",
       "      <th>Title</th>\n",
       "      <th>Description</th>\n",
       "      <th>Description_preprocessed</th>\n",
       "      <th>Title_processed</th>\n",
       "      <th>tags</th>\n",
       "    </tr>\n",
       "  </thead>\n",
       "  <tbody>\n",
       "    <tr>\n",
       "      <th>0</th>\n",
       "      <td>3</td>\n",
       "      <td>Wall St. Bears Claw Back Into the Black (Reuters)</td>\n",
       "      <td>Reuters - Short-sellers, Wall Street's dwindling\\band of ultra-cynics, are seeing green again.</td>\n",
       "      <td>reuter     short     seller     wall street dwindlingband ultra     cynic     see green</td>\n",
       "      <td>wall st      bear claw back black      reuter</td>\n",
       "      <td>wall st      bear claw back black      reuterreuter     short     seller     wall street dwindlingband ultra     cynic     see green</td>\n",
       "    </tr>\n",
       "  </tbody>\n",
       "</table>\n",
       "</div>"
      ],
      "text/plain": [
       "   Class Index                                              Title                                                                                     Description                                                                 Description_preprocessed                                Title_processed                                                                                                                                  tags\n",
       "0            3  Wall St. Bears Claw Back Into the Black (Reuters)  Reuters - Short-sellers, Wall Street's dwindling\\band of ultra-cynics, are seeing green again.  reuter     short     seller     wall street dwindlingband ultra     cynic     see green  wall st      bear claw back black      reuter  wall st      bear claw back black      reuterreuter     short     seller     wall street dwindlingband ultra     cynic     see green"
      ]
     },
     "execution_count": 40,
     "metadata": {},
     "output_type": "execute_result"
    }
   ],
   "source": [
    "train_df.head(1)"
   ]
  },
  {
   "cell_type": "code",
   "execution_count": null,
   "id": "40c8d88d-7455-4d18-b33d-8b70e02ac915",
   "metadata": {
    "tags": []
   },
   "outputs": [],
   "source": [
    "train_df['cnt_words'] = train_df['Description'].apply(lambda x: len(nlp(x)))\n",
    "train_df['cnt_sentences'] = train_df['Description'].apply(lambda x: len(list(nlp(x).sents)))\n",
    "train_df['cnt_char'] = train_df['Description'].apply(len)"
   ]
  },
  {
   "cell_type": "code",
   "execution_count": 41,
   "id": "082bf48c-ff9f-4d41-9537-697b4cb74353",
   "metadata": {
    "tags": []
   },
   "outputs": [
    {
     "data": {
      "text/html": [
       "<div>\n",
       "<style scoped>\n",
       "    .dataframe tbody tr th:only-of-type {\n",
       "        vertical-align: middle;\n",
       "    }\n",
       "\n",
       "    .dataframe tbody tr th {\n",
       "        vertical-align: top;\n",
       "    }\n",
       "\n",
       "    .dataframe thead th {\n",
       "        text-align: right;\n",
       "    }\n",
       "</style>\n",
       "<table border=\"1\" class=\"dataframe\">\n",
       "  <thead>\n",
       "    <tr style=\"text-align: right;\">\n",
       "      <th></th>\n",
       "      <th>Class Index</th>\n",
       "      <th>Title</th>\n",
       "      <th>Description</th>\n",
       "      <th>Description_preprocessed</th>\n",
       "      <th>Title_processed</th>\n",
       "      <th>tags</th>\n",
       "    </tr>\n",
       "  </thead>\n",
       "  <tbody>\n",
       "    <tr>\n",
       "      <th>0</th>\n",
       "      <td>3</td>\n",
       "      <td>Wall St. Bears Claw Back Into the Black (Reuters)</td>\n",
       "      <td>Reuters - Short-sellers, Wall Street's dwindling\\band of ultra-cynics, are seeing green again.</td>\n",
       "      <td>reuter     short     seller     wall street dwindlingband ultra     cynic     see green</td>\n",
       "      <td>wall st      bear claw back black      reuter</td>\n",
       "      <td>wall st      bear claw back black      reuterreuter     short     seller     wall street dwindlingband ultra     cynic     see green</td>\n",
       "    </tr>\n",
       "  </tbody>\n",
       "</table>\n",
       "</div>"
      ],
      "text/plain": [
       "   Class Index                                              Title                                                                                     Description                                                                 Description_preprocessed                                Title_processed                                                                                                                                  tags\n",
       "0            3  Wall St. Bears Claw Back Into the Black (Reuters)  Reuters - Short-sellers, Wall Street's dwindling\\band of ultra-cynics, are seeing green again.  reuter     short     seller     wall street dwindlingband ultra     cynic     see green  wall st      bear claw back black      reuter  wall st      bear claw back black      reuterreuter     short     seller     wall street dwindlingband ultra     cynic     see green"
      ]
     },
     "execution_count": 41,
     "metadata": {},
     "output_type": "execute_result"
    }
   ],
   "source": [
    "train_df.head(1)"
   ]
  },
  {
   "cell_type": "code",
   "execution_count": 42,
   "id": "0cd0ce71-2339-4a94-a690-0b4d70616165",
   "metadata": {
    "tags": []
   },
   "outputs": [],
   "source": [
    "#EDA and Preprocessing"
   ]
  },
  {
   "cell_type": "code",
   "execution_count": 43,
   "id": "eea70a9c-44b1-435f-b3b2-9ceaf5b50bc4",
   "metadata": {
    "tags": []
   },
   "outputs": [],
   "source": [
    "def cnt_char(string):\n",
    "    cnt = len(string)\n",
    "    return cnt"
   ]
  },
  {
   "cell_type": "code",
   "execution_count": 44,
   "id": "535fab75-0bfc-4cea-b7af-4839bf97edd8",
   "metadata": {
    "tags": []
   },
   "outputs": [],
   "source": [
    "def cnt_sent(string):\n",
    "    return len(list(nlp(string).sents))"
   ]
  },
  {
   "cell_type": "code",
   "execution_count": 45,
   "id": "f5459cd0-c4b8-45a9-86d6-f2bf508ba63d",
   "metadata": {
    "tags": []
   },
   "outputs": [],
   "source": [
    "def cnt_words(string):\n",
    "    cnt = len(nlp(string))\n",
    "    return cnt"
   ]
  },
  {
   "cell_type": "code",
   "execution_count": 46,
   "id": "b50eceb7-8cd0-46b9-8b0b-99a6a098ee2d",
   "metadata": {
    "tags": []
   },
   "outputs": [],
   "source": [
    "def avg_word_count(string):\n",
    "    cnt = cnt_char(string) / cnt_words(string)\n",
    "    return cnt"
   ]
  },
  {
   "cell_type": "code",
   "execution_count": 47,
   "id": "c1400c2a-49cc-4011-bed8-91514597eb9a",
   "metadata": {
    "tags": []
   },
   "outputs": [],
   "source": [
    "def avg_sent_len(string):\n",
    "    cnt = cnt_words(string) / cnt_sent(string)\n",
    "    return cnt"
   ]
  },
  {
   "cell_type": "code",
   "execution_count": 48,
   "id": "42eb1e29-2282-4921-b8fe-fd36381cc3fa",
   "metadata": {
    "tags": []
   },
   "outputs": [],
   "source": [
    "def uniques_words(string):\n",
    "    return len(set(nlp(string).sents))"
   ]
  },
  {
   "cell_type": "code",
   "execution_count": 49,
   "id": "f7af4cad-9ad0-4a88-8547-2a33f632d969",
   "metadata": {
    "tags": []
   },
   "outputs": [],
   "source": [
    "def punctuations_cnt(text):\n",
    "    \n",
    "    import string\n",
    "    punc = string.punctuation\n",
    "    cnt = 0\n",
    "    doc1 = nlp(text)\n",
    "    for token in doc1.text:\n",
    "        if token in punc:\n",
    "            cnt+=1\n",
    "    return cnt"
   ]
  },
  {
   "cell_type": "code",
   "execution_count": 50,
   "id": "35bbdffc-4349-43c6-a4c1-1e1bf155b077",
   "metadata": {
    "tags": []
   },
   "outputs": [],
   "source": [
    "def find_between_quotes(string):\n",
    "    x = re.findall(r'(@w[A-Za-z0-9]*)', string)\n",
    "    return len(x)"
   ]
  },
  {
   "cell_type": "code",
   "execution_count": 51,
   "id": "00167ef9-1a9c-4347-9980-1e0b66e6468b",
   "metadata": {
    "tags": []
   },
   "outputs": [],
   "source": [
    "def cnt_stopwords(string):\n",
    "    \n",
    "    cnt = 0\n",
    "    \n",
    "    from nltk.corpus import stopwords\n",
    "\n",
    "    stopwords = stopwords.words('english')\n",
    "    doc1 = nlp(string)\n",
    "    \n",
    "    for token in doc1.text:\n",
    "        if token in stopwords:\n",
    "            cnt += 1 \n",
    "    return cnt"
   ]
  },
  {
   "cell_type": "code",
   "execution_count": 52,
   "id": "54562e86-dc43-4bb8-9168-40335f9ea874",
   "metadata": {
    "tags": []
   },
   "outputs": [],
   "source": [
    "train_df['tags_initial'] = train_df['Title'] + train_df['Description']"
   ]
  },
  {
   "cell_type": "code",
   "execution_count": 53,
   "id": "54bf5257-e61a-4860-9c51-1a86200c6221",
   "metadata": {
    "tags": []
   },
   "outputs": [],
   "source": [
    "train_df.rename(columns = {'tags':'tags_preprocessed'}, inplace = True)"
   ]
  },
  {
   "cell_type": "code",
   "execution_count": 54,
   "id": "78dc17bb-4ea6-4c79-a3cf-a7ccddc4beef",
   "metadata": {
    "tags": []
   },
   "outputs": [
    {
     "data": {
      "text/html": [
       "<div>\n",
       "<style scoped>\n",
       "    .dataframe tbody tr th:only-of-type {\n",
       "        vertical-align: middle;\n",
       "    }\n",
       "\n",
       "    .dataframe tbody tr th {\n",
       "        vertical-align: top;\n",
       "    }\n",
       "\n",
       "    .dataframe thead th {\n",
       "        text-align: right;\n",
       "    }\n",
       "</style>\n",
       "<table border=\"1\" class=\"dataframe\">\n",
       "  <thead>\n",
       "    <tr style=\"text-align: right;\">\n",
       "      <th></th>\n",
       "      <th>Class Index</th>\n",
       "      <th>Title</th>\n",
       "      <th>Description</th>\n",
       "      <th>Description_preprocessed</th>\n",
       "      <th>Title_processed</th>\n",
       "      <th>tags_preprocessed</th>\n",
       "      <th>tags_initial</th>\n",
       "    </tr>\n",
       "  </thead>\n",
       "  <tbody>\n",
       "    <tr>\n",
       "      <th>0</th>\n",
       "      <td>3</td>\n",
       "      <td>Wall St. Bears Claw Back Into the Black (Reuters)</td>\n",
       "      <td>Reuters - Short-sellers, Wall Street's dwindling\\band of ultra-cynics, are seeing green again.</td>\n",
       "      <td>reuter     short     seller     wall street dwindlingband ultra     cynic     see green</td>\n",
       "      <td>wall st      bear claw back black      reuter</td>\n",
       "      <td>wall st      bear claw back black      reuterreuter     short     seller     wall street dwindlingband ultra     cynic     see green</td>\n",
       "      <td>Wall St. Bears Claw Back Into the Black (Reuters)Reuters - Short-sellers, Wall Street's dwindling\\band of ultra-cynics, are seeing green again.</td>\n",
       "    </tr>\n",
       "  </tbody>\n",
       "</table>\n",
       "</div>"
      ],
      "text/plain": [
       "   Class Index                                              Title                                                                                     Description                                                                 Description_preprocessed                                Title_processed                                                                                                                     tags_preprocessed                                                                                                                                     tags_initial\n",
       "0            3  Wall St. Bears Claw Back Into the Black (Reuters)  Reuters - Short-sellers, Wall Street's dwindling\\band of ultra-cynics, are seeing green again.  reuter     short     seller     wall street dwindlingband ultra     cynic     see green  wall st      bear claw back black      reuter  wall st      bear claw back black      reuterreuter     short     seller     wall street dwindlingband ultra     cynic     see green  Wall St. Bears Claw Back Into the Black (Reuters)Reuters - Short-sellers, Wall Street's dwindling\\band of ultra-cynics, are seeing green again."
      ]
     },
     "execution_count": 54,
     "metadata": {},
     "output_type": "execute_result"
    }
   ],
   "source": [
    "train_df.head(1)"
   ]
  },
  {
   "cell_type": "code",
   "execution_count": null,
   "id": "38843394-0f88-431f-9059-25de90d8a2f0",
   "metadata": {
    "tags": []
   },
   "outputs": [],
   "source": [
    "train_df['uniques_words'] = train_df['tags_initial'].apply(uniques_words)"
   ]
  },
  {
   "cell_type": "code",
   "execution_count": null,
   "id": "13582364-f273-4d5a-aed5-a1fc46405e45",
   "metadata": {
    "tags": []
   },
   "outputs": [],
   "source": [
    "train_df['punctuations_cnt'] = train_df['tags_initial'].apply(punctuations_cnt)"
   ]
  },
  {
   "cell_type": "code",
   "execution_count": null,
   "id": "e2247932-dd71-4f4e-afab-e1844e0ab220",
   "metadata": {
    "tags": []
   },
   "outputs": [],
   "source": [
    "train_df['find_between_quotes'] = train_df['tags_initial'].apply(find_between_quotes)"
   ]
  },
  {
   "cell_type": "code",
   "execution_count": null,
   "id": "4c0ace72-9c76-4196-8bac-9994af74bff1",
   "metadata": {
    "tags": []
   },
   "outputs": [],
   "source": [
    "train_df['cnt_stopwords'] = train_df['tags_initial'].apply(cnt_stopwords)"
   ]
  },
  {
   "cell_type": "code",
   "execution_count": null,
   "id": "f000804e-2b62-4989-9301-9b07cb0379b6",
   "metadata": {
    "tags": []
   },
   "outputs": [],
   "source": [
    "train_df['avg_word_count'] = train_df['tags_initial'].apply(avg_word_count)"
   ]
  },
  {
   "cell_type": "code",
   "execution_count": null,
   "id": "4fb83dac-7e7e-4f3b-9c93-dd5d9bf7f1ab",
   "metadata": {
    "tags": []
   },
   "outputs": [],
   "source": [
    "train_df['avg_sent_len'] = train_df['tags_initial'].apply(avg_sent_len)"
   ]
  },
  {
   "cell_type": "code",
   "execution_count": null,
   "id": "fa7c99d7-68c0-4808-ab23-333dcf3cba92",
   "metadata": {
    "tags": []
   },
   "outputs": [],
   "source": [
    "#Correlation graph"
   ]
  },
  {
   "cell_type": "code",
   "execution_count": null,
   "id": "6f92faf6-6432-4061-aaab-9ee2a1e9b455",
   "metadata": {
    "tags": []
   },
   "outputs": [],
   "source": [
    "train_df.head(1)"
   ]
  },
  {
   "cell_type": "code",
   "execution_count": null,
   "id": "38ceac4d-fa78-4dec-be8b-9699dc9a37cc",
   "metadata": {
    "tags": []
   },
   "outputs": [],
   "source": [
    "sns.set(font_scale = 1)\n",
    "plt.figure(figsize=(8,6))\n",
    "cor_df = train_df[['Class Index', 'cnt_words', 'cnt_sentences', 'cnt_char', 'uniques_words', 'punctuations_cnt', 'find_between_quotes', 'cnt_stopwords', 'avg_word_count', 'avg_sent_len']]\n",
    "sns.heatmap(cor_df.corr(), annot=True, cmap=\"YlGnBu\", xticklabels=True, yticklabels=True, annot_kws={'fontsize': 8, 'fontweight': 'bold'})\n",
    "plt.xticks(rotation=55)\n",
    "plt.show()"
   ]
  },
  {
   "cell_type": "code",
   "execution_count": null,
   "id": "bf5b9a9b-0add-412a-8710-c0f19956c05c",
   "metadata": {
    "tags": []
   },
   "outputs": [],
   "source": [
    "#Distplots"
   ]
  },
  {
   "cell_type": "code",
   "execution_count": null,
   "id": "0c70a691-ac6f-4553-8b20-a61c509dcedf",
   "metadata": {
    "tags": []
   },
   "outputs": [],
   "source": [
    "train_df.info()"
   ]
  },
  {
   "cell_type": "code",
   "execution_count": null,
   "id": "4a53982a-4373-4273-95a4-e44dcaed48a4",
   "metadata": {
    "tags": []
   },
   "outputs": [],
   "source": [
    "features = train_df.columns"
   ]
  },
  {
   "cell_type": "code",
   "execution_count": null,
   "id": "7c2da055-0038-40b1-b81e-2b0b11c5476c",
   "metadata": {
    "tags": []
   },
   "outputs": [],
   "source": [
    "features = features[6:]"
   ]
  },
  {
   "cell_type": "code",
   "execution_count": null,
   "id": "7f387002-d264-4edd-be48-f0cbea69a60f",
   "metadata": {},
   "outputs": [],
   "source": [
    "features = features[[]]"
   ]
  },
  {
   "cell_type": "code",
   "execution_count": null,
   "id": "e9a3eff1-8815-4434-b5ac-0da299a2a6d4",
   "metadata": {
    "tags": []
   },
   "outputs": [],
   "source": [
    "for i in features:\n",
    "    if i != 'tags_initial':\n",
    "        sns.distplot(train_df[i])\n",
    "        plt.xticks(rotation=15)\n",
    "        plt.show()"
   ]
  },
  {
   "cell_type": "code",
   "execution_count": null,
   "id": "c2f1b78c-8710-4eba-89e1-fff3fd8add3a",
   "metadata": {
    "tags": []
   },
   "outputs": [],
   "source": [
    "features"
   ]
  },
  {
   "cell_type": "code",
   "execution_count": 73,
   "id": "8dd7d543-2bda-4cdd-b381-86d5f7beabfa",
   "metadata": {
    "tags": []
   },
   "outputs": [],
   "source": [
    "#Powertransfomer?"
   ]
  },
  {
   "cell_type": "code",
   "execution_count": null,
   "id": "5fdb353e-10d9-407f-bbeb-04e31f5c8760",
   "metadata": {},
   "outputs": [],
   "source": [
    "trnf = ColumnTransformer(transformers=[\n",
    "    ('power_trnf', PowerTransformer(), ['cnt_words', 'cnt_sentences', 'cnt_char', 'uniques_words', 'punctuations_cnt', 'find_between_quotes', 'cnt_stopwords', 'avg_word_count', 'avg_sent_len']),\n",
    "    ('tfidf', TfidfVectorizer(), ['remainder__tags_preprocessed'])\n",
    "], remainder='passthrough')"
   ]
  },
  {
   "cell_type": "code",
   "execution_count": 75,
   "id": "84958bfc-4cb9-4bc9-8fff-d2e90768ee6f",
   "metadata": {
    "tags": []
   },
   "outputs": [],
   "source": [
    "# train_df_trnf = trnf.fit_transform(train_df)"
   ]
  },
  {
   "cell_type": "code",
   "execution_count": 76,
   "id": "b5fee6f4-15c1-476c-8e84-0effeb6dc600",
   "metadata": {
    "tags": []
   },
   "outputs": [],
   "source": [
    "train_df_trnf = pd.DataFrame(trnf.fit_transform(train_df), columns=trnf.get_feature_names_out())"
   ]
  },
  {
   "cell_type": "code",
   "execution_count": 77,
   "id": "b89d7e39-d8e9-416a-9a44-0ea17a232283",
   "metadata": {
    "tags": []
   },
   "outputs": [
    {
     "data": {
      "text/html": [
       "<div>\n",
       "<style scoped>\n",
       "    .dataframe tbody tr th:only-of-type {\n",
       "        vertical-align: middle;\n",
       "    }\n",
       "\n",
       "    .dataframe tbody tr th {\n",
       "        vertical-align: top;\n",
       "    }\n",
       "\n",
       "    .dataframe thead th {\n",
       "        text-align: right;\n",
       "    }\n",
       "</style>\n",
       "<table border=\"1\" class=\"dataframe\">\n",
       "  <thead>\n",
       "    <tr style=\"text-align: right;\">\n",
       "      <th></th>\n",
       "      <th>power_trnf__cnt_words</th>\n",
       "      <th>power_trnf__cnt_sentences</th>\n",
       "      <th>power_trnf__cnt_char</th>\n",
       "      <th>power_trnf__uniques_words</th>\n",
       "      <th>power_trnf__punctuations_cnt</th>\n",
       "      <th>power_trnf__find_between_quotes</th>\n",
       "      <th>power_trnf__cnt_stopwords</th>\n",
       "      <th>power_trnf__avg_word_count</th>\n",
       "      <th>power_trnf__avg_sent_len</th>\n",
       "      <th>remainder__Class Index</th>\n",
       "      <th>remainder__Title</th>\n",
       "      <th>remainder__Description</th>\n",
       "      <th>remainder__Description_preprocessed</th>\n",
       "      <th>remainder__Title_processed</th>\n",
       "      <th>remainder__tags_preprocessed</th>\n",
       "      <th>remainder__tags_initial</th>\n",
       "    </tr>\n",
       "  </thead>\n",
       "  <tbody>\n",
       "    <tr>\n",
       "      <th>0</th>\n",
       "      <td>-1.690027</td>\n",
       "      <td>-0.639068</td>\n",
       "      <td>-2.149408</td>\n",
       "      <td>-0.717931</td>\n",
       "      <td>0.887809</td>\n",
       "      <td>0.0</td>\n",
       "      <td>-2.386252</td>\n",
       "      <td>-1.110347</td>\n",
       "      <td>-0.307446</td>\n",
       "      <td>3</td>\n",
       "      <td>Wall St. Bears Claw Back Into the Black (Reuters)</td>\n",
       "      <td>Reuters - Short-sellers, Wall Street's dwindling\\band of ultra-cynics, are seeing green again.</td>\n",
       "      <td>reuter     short     seller     wall street dwindlingband ultra     cynic     see green</td>\n",
       "      <td>wall st      bear claw back black      reuter</td>\n",
       "      <td>wall st      bear claw back black      reuterreuter     short     seller     wall street dwindlingband ultra     cynic     see green</td>\n",
       "      <td>Wall St. Bears Claw Back Into the Black (Reuters)Reuters - Short-sellers, Wall Street's dwindling\\band of ultra-cynics, are seeing green again.</td>\n",
       "    </tr>\n",
       "  </tbody>\n",
       "</table>\n",
       "</div>"
      ],
      "text/plain": [
       "  power_trnf__cnt_words power_trnf__cnt_sentences power_trnf__cnt_char power_trnf__uniques_words power_trnf__punctuations_cnt power_trnf__find_between_quotes power_trnf__cnt_stopwords power_trnf__avg_word_count power_trnf__avg_sent_len remainder__Class Index                                   remainder__Title                                                                          remainder__Description                                                      remainder__Description_preprocessed                     remainder__Title_processed                                                                                                          remainder__tags_preprocessed                                                                                                                          remainder__tags_initial\n",
       "0             -1.690027                 -0.639068            -2.149408                 -0.717931                     0.887809                             0.0                 -2.386252                  -1.110347                -0.307446                      3  Wall St. Bears Claw Back Into the Black (Reuters)  Reuters - Short-sellers, Wall Street's dwindling\\band of ultra-cynics, are seeing green again.  reuter     short     seller     wall street dwindlingband ultra     cynic     see green  wall st      bear claw back black      reuter  wall st      bear claw back black      reuterreuter     short     seller     wall street dwindlingband ultra     cynic     see green  Wall St. Bears Claw Back Into the Black (Reuters)Reuters - Short-sellers, Wall Street's dwindling\\band of ultra-cynics, are seeing green again."
      ]
     },
     "execution_count": 77,
     "metadata": {},
     "output_type": "execute_result"
    }
   ],
   "source": [
    "train_df_trnf.head(1)"
   ]
  },
  {
   "cell_type": "code",
   "execution_count": 78,
   "id": "bc640ba7-f7d2-4c88-8730-42348f981586",
   "metadata": {
    "tags": []
   },
   "outputs": [],
   "source": [
    "features_trnf = train_df_trnf.columns"
   ]
  },
  {
   "cell_type": "code",
   "execution_count": 79,
   "id": "526292da-7904-41f8-95bc-45b3ae479abc",
   "metadata": {
    "tags": []
   },
   "outputs": [],
   "source": [
    "features_trnf = features_trnf[0:9]"
   ]
  },
  {
   "cell_type": "code",
   "execution_count": 80,
   "id": "1584557d-0e03-449e-90bd-e5aa917fd7b7",
   "metadata": {
    "tags": []
   },
   "outputs": [
    {
     "data": {
      "text/plain": [
       "Index(['power_trnf__cnt_words', 'power_trnf__cnt_sentences', 'power_trnf__cnt_char', 'power_trnf__uniques_words', 'power_trnf__punctuations_cnt', 'power_trnf__find_between_quotes', 'power_trnf__cnt_stopwords', 'power_trnf__avg_word_count', 'power_trnf__avg_sent_len'], dtype='object')"
      ]
     },
     "execution_count": 80,
     "metadata": {},
     "output_type": "execute_result"
    }
   ],
   "source": [
    "features_trnf"
   ]
  },
  {
   "cell_type": "code",
   "execution_count": 81,
   "id": "0b8a1300-0d55-4936-bf9c-83d2b4c436e9",
   "metadata": {
    "tags": []
   },
   "outputs": [
    {
     "data": {
      "image/png": "[encoded data removed]",
      "text/plain": [
       "<Figure size 640x480 with 1 Axes>"
      ]
     },
     "metadata": {},
     "output_type": "display_data"
    },
    {
     "data": {
      "image/png": "[encoded data removed]",
      "text/plain": [
       "<Figure size 640x480 with 1 Axes>"
      ]
     },
     "metadata": {},
     "output_type": "display_data"
    },
    {
     "data": {
      "image/png": "[encoded data removed]",
      "text/plain": [
       "<Figure size 640x480 with 1 Axes>"
      ]
     },
     "metadata": {},
     "output_type": "display_data"
    },
    {
     "data": {
      "image/png": "[encoded data removed]",
      "text/plain": [
       "<Figure size 640x480 with 1 Axes>"
      ]
     },
     "metadata": {},
     "output_type": "display_data"
    },
    {
     "data": {
      "image/png": "[encoded data removed]",
      "text/plain": [
       "<Figure size 640x480 with 1 Axes>"
      ]
     },
     "metadata": {},
     "output_type": "display_data"
    },
    {
     "data": {
      "image/png": "[encoded data removed]",
      "text/plain": [
       "<Figure size 640x480 with 1 Axes>"
      ]
     },
     "metadata": {},
     "output_type": "display_data"
    },
    {
     "data": {
      "image/png": "[encoded data removed]",
      "text/plain": [
       "<Figure size 640x480 with 1 Axes>"
      ]
     },
     "metadata": {},
     "output_type": "display_data"
    },
    {
     "data": {
      "image/png": "[encoded data removed]",
      "text/plain": [
       "<Figure size 640x480 with 1 Axes>"
      ]
     },
     "metadata": {},
     "output_type": "display_data"
    },
    {
     "data": {
      "image/png": "[encoded data removed]",
      "text/plain": [
       "<Figure size 640x480 with 1 Axes>"
      ]
     },
     "metadata": {},
     "output_type": "display_data"
    }
   ],
   "source": [
    "for i in features_trnf:\n",
    "    # if i != 'tags_initial':\n",
    "        sns.distplot(train_df_trnf[i])\n",
    "        plt.xticks(rotation=15)\n",
    "        plt.show()"
   ]
  },
  {
   "cell_type": "code",
   "execution_count": 84,
   "id": "6a13c98f-f8ab-4dcb-925c-2e40af0d7f9e",
   "metadata": {
    "tags": []
   },
   "outputs": [
    {
     "data": {
      "text/plain": [
       "Index(['Class Index', 'Title', 'Description', 'Description_preprocessed', 'Title_processed', 'tags_preprocessed', 'cnt_words', 'cnt_sentences', 'cnt_char', 'tags_initial', 'uniques_words', 'punctuations_cnt', 'find_between_quotes', 'cnt_stopwords', 'avg_word_count', 'avg_sent_len'], dtype='object')"
      ]
     },
     "execution_count": 84,
     "metadata": {},
     "output_type": "execute_result"
    }
   ],
   "source": [
    "train_df.columns"
   ]
  },
  {
   "cell_type": "code",
   "execution_count": null,
   "id": "cdeefcc0-973a-48df-b923-646def96f56c",
   "metadata": {
    "tags": []
   },
   "outputs": [],
   "source": [
    "# processed_df = train_df.drop(columns=['Title','Description', 'Class Index', 'tags_initial'])\n",
    "X = train_df[['tags_preprocessed']]\n",
    "y = train_df[['Class Index']]"
   ]
  },
  {
   "cell_type": "code",
   "execution_count": null,
   "id": "0923ad8a-0b47-4c9e-805e-44351d248e98",
   "metadata": {
    "tags": []
   },
   "outputs": [],
   "source": [
    "X.head()"
   ]
  },
  {
   "cell_type": "code",
   "execution_count": null,
   "id": "de65e045-1c34-410f-a1e5-eac00509cc4e",
   "metadata": {
    "tags": []
   },
   "outputs": [],
   "source": [
    "X.shape"
   ]
  },
  {
   "cell_type": "code",
   "execution_count": null,
   "id": "39076071-4bb7-4f50-bb76-97f41bd28269",
   "metadata": {
    "tags": []
   },
   "outputs": [],
   "source": [
    "X.shape"
   ]
  },
  {
   "cell_type": "code",
   "execution_count": null,
   "id": "ec5fe164-f7c9-4e71-b91f-61ad697dfa6f",
   "metadata": {
    "tags": []
   },
   "outputs": [],
   "source": [
    "y.head()"
   ]
  },
  {
   "cell_type": "code",
   "execution_count": null,
   "id": "61e74f50-0172-416f-bf00-0668bfd35ff7",
   "metadata": {
    "tags": []
   },
   "outputs": [],
   "source": [
    "y.shape"
   ]
  },
  {
   "cell_type": "code",
   "execution_count": null,
   "id": "42267b6a-3b5a-4857-9794-31afbc3323e1",
   "metadata": {},
   "outputs": [],
   "source": []
  },
  {
   "cell_type": "code",
   "execution_count": null,
   "id": "20dd8c82-aa22-464c-8808-7ac5e497e377",
   "metadata": {
    "tags": []
   },
   "outputs": [],
   "source": [
    "X_train, X_test, y_train, y_test = train_test_split(X, y, test_size=0.3, random_state=42)"
   ]
  },
  {
   "cell_type": "code",
   "execution_count": null,
   "id": "a464f870-a62b-4e05-b633-dde657d69116",
   "metadata": {
    "tags": []
   },
   "outputs": [],
   "source": [
    "X_train.shape"
   ]
  },
  {
   "cell_type": "code",
   "execution_count": null,
   "id": "5ecd48e5-1ab4-4e46-98fb-53710f119b0f",
   "metadata": {
    "tags": []
   },
   "outputs": [],
   "source": [
    "y_train.shape"
   ]
  },
  {
   "cell_type": "code",
   "execution_count": null,
   "id": "3cf78753-917d-439b-a0bd-55f91c6bded4",
   "metadata": {},
   "outputs": [],
   "source": [
    "#Model Building"
   ]
  },
  {
   "cell_type": "code",
   "execution_count": null,
   "id": "f1529c91-8460-4421-89a3-357a89683299",
   "metadata": {
    "tags": []
   },
   "outputs": [],
   "source": [
    "#MultinomialNB"
   ]
  },
  {
   "cell_type": "code",
   "execution_count": 55,
   "id": "21e68681-c406-4809-a15a-48fe87075d60",
   "metadata": {
    "tags": []
   },
   "outputs": [
    {
     "ename": "NameError",
     "evalue": "name 'X' is not defined",
     "output_type": "error",
     "traceback": [
      "\u001b[0;31m---------------------------------------------------------------------------\u001b[0m",
      "\u001b[0;31mNameError\u001b[0m                                 Traceback (most recent call last)",
      "Cell \u001b[0;32mIn[55], line 22\u001b[0m\n\u001b[1;32m      7\u001b[0m pipe_mnb \u001b[38;5;241m=\u001b[39m Pipeline([\n\u001b[1;32m      8\u001b[0m     (\u001b[38;5;124m'\u001b[39m\u001b[38;5;124mvect\u001b[39m\u001b[38;5;124m'\u001b[39m, TfidfVectorizer(lowercase\u001b[38;5;241m=\u001b[39m\u001b[38;5;28;01mFalse\u001b[39;00m)),\n\u001b[1;32m      9\u001b[0m     (\u001b[38;5;124m'\u001b[39m\u001b[38;5;124mmnb\u001b[39m\u001b[38;5;124m'\u001b[39m, MultinomialNB())\n\u001b[1;32m     10\u001b[0m ])\n\u001b[1;32m     13\u001b[0m params_mnb \u001b[38;5;241m=\u001b[39m {\n\u001b[1;32m     14\u001b[0m         \u001b[38;5;124m'\u001b[39m\u001b[38;5;124mvect__ngram_range\u001b[39m\u001b[38;5;124m'\u001b[39m: [(\u001b[38;5;241m1\u001b[39m, \u001b[38;5;241m1\u001b[39m), (\u001b[38;5;241m1\u001b[39m, \u001b[38;5;241m2\u001b[39m), (\u001b[38;5;241m1\u001b[39m, \u001b[38;5;241m3\u001b[39m), (\u001b[38;5;241m2\u001b[39m, \u001b[38;5;241m2\u001b[39m), (\u001b[38;5;241m2\u001b[39m, \u001b[38;5;241m3\u001b[39m)],\n\u001b[1;32m     15\u001b[0m         \u001b[38;5;124m'\u001b[39m\u001b[38;5;124mvect__max_df\u001b[39m\u001b[38;5;124m'\u001b[39m: [\u001b[38;5;241m50\u001b[39m, \u001b[38;5;241m70\u001b[39m, \u001b[38;5;241m90\u001b[39m],\n\u001b[0;32m   (...)\u001b[0m\n\u001b[1;32m     19\u001b[0m         \u001b[38;5;124m'\u001b[39m\u001b[38;5;124mvect__sublinear_tf\u001b[39m\u001b[38;5;124m'\u001b[39m: [\u001b[38;5;28;01mTrue\u001b[39;00m, \u001b[38;5;28;01mFalse\u001b[39;00m],\n\u001b[1;32m     20\u001b[0m }\n\u001b[0;32m---> 22\u001b[0m \u001b[38;5;28mprint\u001b[39m(\u001b[43mX\u001b[49m\u001b[38;5;241m.\u001b[39mshape, y\u001b[38;5;241m.\u001b[39mshape, X_train\u001b[38;5;241m.\u001b[39mshape, y_train\u001b[38;5;241m.\u001b[39mshape)\n\u001b[1;32m     23\u001b[0m gs_mnb \u001b[38;5;241m=\u001b[39m GridSearchCV(pipe_mnb, params_mnb, verbose\u001b[38;5;241m=\u001b[39m\u001b[38;5;241m10\u001b[39m, cv\u001b[38;5;241m=\u001b[39m\u001b[38;5;241m5\u001b[39m, n_jobs\u001b[38;5;241m=\u001b[39m\u001b[38;5;241m-\u001b[39m\u001b[38;5;241m1\u001b[39m, scoring\u001b[38;5;241m=\u001b[39m\u001b[38;5;124m'\u001b[39m\u001b[38;5;124maccuracy\u001b[39m\u001b[38;5;124m'\u001b[39m, error_score\u001b[38;5;241m=\u001b[39m\u001b[38;5;124m'\u001b[39m\u001b[38;5;124mraise\u001b[39m\u001b[38;5;124m'\u001b[39m)\n\u001b[1;32m     24\u001b[0m gs_mnb\u001b[38;5;241m.\u001b[39mfit(X_train, y_train)\n",
      "\u001b[0;31mNameError\u001b[0m: name 'X' is not defined"
     ]
    }
   ],
   "source": [
    "#Model Creation\n",
    "\n",
    "#MultinomialNB\n",
    "\n",
    "\n",
    "\n",
    "pipe_mnb = Pipeline([\n",
    "    ('vect', TfidfVectorizer(lowercase=False)),\n",
    "    ('mnb', MultinomialNB())\n",
    "])\n",
    "\n",
    "\n",
    "params_mnb = {\n",
    "        'vect__ngram_range': [(1, 1), (1, 2), (1, 3), (2, 2), (2, 3)],\n",
    "        'vect__max_df': [50, 70, 90],\n",
    "        # 'vect__min_df': [0.001, 0.002, 0.003, 0.004, 1],\n",
    "        'vect__max_features': [3000, 5000, 7000, 9000, 11000, None],\n",
    "        'vect__binary': [True, False],\n",
    "        'vect__sublinear_tf': [True, False],\n",
    "}\n",
    "\n",
    "print(X.shape, y.shape, X_train.shape, y_train.shape)\n",
    "gs_mnb = GridSearchCV(pipe_mnb, params_mnb, verbose=10, cv=5, n_jobs=-1, scoring='accuracy', error_score='raise')\n",
    "gs_mnb.fit(X_train, y_train)\n",
    "\n",
    "\n",
    "print('Best accuracy: ', gs_mnb.best_score_, end='\\n')\n",
    "print('Params: ', gs_mnb.best_params_)\n"
   ]
  },
  {
   "cell_type": "code",
   "execution_count": 123,
   "id": "76520fa9-41ef-4066-82b4-912a0b23cfcd",
   "metadata": {
    "tags": []
   },
   "outputs": [],
   "source": [
    "tfidf = TfidfVectorizer(m)\n",
    "\n",
    "X_train_trnf = tfidf.fit_transform(X_train['tags_preprocessed']).toarray()\n",
    "X_test_trnf = tfidf.transform(X_test['tags_preprocessed']).toarray()"
   ]
  },
  {
   "cell_type": "code",
   "execution_count": 124,
   "id": "e4ab9d84-9fdd-4b1c-98c8-c712ae7eccd5",
   "metadata": {
    "tags": []
   },
   "outputs": [
    {
     "ename": "IndexError",
     "evalue": "index 2 is out of bounds for axis 0 with size 1",
     "output_type": "error",
     "traceback": [
      "\u001b[0;31m---------------------------------------------------------------------------\u001b[0m",
      "\u001b[0;31mIndexError\u001b[0m                                Traceback (most recent call last)",
      "Cell \u001b[0;32mIn[124], line 1\u001b[0m\n\u001b[0;32m----> 1\u001b[0m \u001b[43mX_train_trnf\u001b[49m\u001b[43m[\u001b[49m\u001b[38;5;241;43m2\u001b[39;49m\u001b[43m]\u001b[49m\n",
      "\u001b[0;31mIndexError\u001b[0m: index 2 is out of bounds for axis 0 with size 1"
     ]
    }
   ],
   "source": [
    "X_train_trnf[2]"
   ]
  },
  {
   "cell_type": "code",
   "execution_count": null,
   "id": "92e30d09-8bfa-4c63-8940-6c0c16735d6e",
   "metadata": {},
   "outputs": [],
   "source": []
  }
 ],
 "metadata": {
  "kernelspec": {
   "display_name": "Python 3 (ipykernel)",
   "language": "python",
   "name": "python3"
  },
  "language_info": {
   "codemirror_mode": {
    "name": "ipython",
    "version": 3
   },
   "file_extension": ".py",
   "mimetype": "text/x-python",
   "name": "python",
   "nbconvert_exporter": "python",
   "pygments_lexer": "ipython3",
   "version": "3.8.17"
  },
  "widgets": {
   "application/vnd.jupyter.widget-state+json": {
    "state": {},
    "version_major": 2,
    "version_minor": 0
   }
  }
 },
 "nbformat": 4,
 "nbformat_minor": 5
}
